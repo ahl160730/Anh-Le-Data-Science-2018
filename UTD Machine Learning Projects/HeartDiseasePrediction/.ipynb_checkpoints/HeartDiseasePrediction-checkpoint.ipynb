{
 "cells": [
  {
   "cell_type": "markdown",
   "metadata": {},
   "source": [
    "# Preamble and Datasets"
   ]
  },
  {
   "cell_type": "code",
   "execution_count": 36,
   "metadata": {},
   "outputs": [],
   "source": [
    "%matplotlib notebook\n",
    "import numpy as np\n",
    "import pandas as pd\n",
    "import seaborn as sn\n",
    "import matplotlib.pyplot as plt\n",
    "\n",
    "from sklearn.metrics import classification_report\n",
    "from sklearn.metrics import confusion_matrix\n",
    "from sklearn.metrics import accuracy_score\n",
    "from sklearn.model_selection import cross_val_score\n",
    "from sklearn.model_selection import train_test_split\n",
    "from sklearn.ensemble import RandomForestClassifier as rfc\n",
    "from sklearn.ensemble import VotingClassifier, BaggingClassifier\n",
    "from sklearn.linear_model import LogisticRegression\n",
    "from sklearn.svm import LinearSVC, SVC\n",
    "from sklearn.model_selection import GridSearchCV\n",
    "from sklearn.neighbors import KNeighborsClassifier\n",
    "from sklearn.tree import DecisionTreeClassifier as dtc\n",
    "from sklearn.decomposition import PCA"
   ]
  },
  {
   "cell_type": "code",
   "execution_count": 37,
   "metadata": {},
   "outputs": [],
   "source": [
    "data = pd.read_csv('cardiac_arrhythmia.csv')\n"
   ]
  },
  {
   "cell_type": "code",
   "execution_count": 38,
   "metadata": {},
   "outputs": [
    {
     "data": {
      "text/html": [
       "<div>\n",
       "<style scoped>\n",
       "    .dataframe tbody tr th:only-of-type {\n",
       "        vertical-align: middle;\n",
       "    }\n",
       "\n",
       "    .dataframe tbody tr th {\n",
       "        vertical-align: top;\n",
       "    }\n",
       "\n",
       "    .dataframe thead th {\n",
       "        text-align: right;\n",
       "    }\n",
       "</style>\n",
       "<table border=\"1\" class=\"dataframe\">\n",
       "  <thead>\n",
       "    <tr style=\"text-align: right;\">\n",
       "      <th></th>\n",
       "      <th>75</th>\n",
       "      <th>0</th>\n",
       "      <th>190</th>\n",
       "      <th>80</th>\n",
       "      <th>91</th>\n",
       "      <th>193</th>\n",
       "      <th>371</th>\n",
       "      <th>174</th>\n",
       "      <th>121</th>\n",
       "      <th>-16</th>\n",
       "      <th>...</th>\n",
       "      <th>0.150</th>\n",
       "      <th>9</th>\n",
       "      <th>-0.9</th>\n",
       "      <th>0.151</th>\n",
       "      <th>0.152</th>\n",
       "      <th>0.9.3</th>\n",
       "      <th>2.9.1</th>\n",
       "      <th>23.3</th>\n",
       "      <th>49.4</th>\n",
       "      <th>8</th>\n",
       "    </tr>\n",
       "  </thead>\n",
       "  <tbody>\n",
       "    <tr>\n",
       "      <th>0</th>\n",
       "      <td>56</td>\n",
       "      <td>1</td>\n",
       "      <td>165</td>\n",
       "      <td>64</td>\n",
       "      <td>81</td>\n",
       "      <td>174</td>\n",
       "      <td>401</td>\n",
       "      <td>149</td>\n",
       "      <td>39</td>\n",
       "      <td>25</td>\n",
       "      <td>...</td>\n",
       "      <td>0.0</td>\n",
       "      <td>8.5</td>\n",
       "      <td>0.0</td>\n",
       "      <td>0.0</td>\n",
       "      <td>0</td>\n",
       "      <td>0.2</td>\n",
       "      <td>2.1</td>\n",
       "      <td>20.4</td>\n",
       "      <td>38.8</td>\n",
       "      <td>6</td>\n",
       "    </tr>\n",
       "    <tr>\n",
       "      <th>1</th>\n",
       "      <td>54</td>\n",
       "      <td>0</td>\n",
       "      <td>172</td>\n",
       "      <td>95</td>\n",
       "      <td>138</td>\n",
       "      <td>163</td>\n",
       "      <td>386</td>\n",
       "      <td>185</td>\n",
       "      <td>102</td>\n",
       "      <td>96</td>\n",
       "      <td>...</td>\n",
       "      <td>0.0</td>\n",
       "      <td>9.5</td>\n",
       "      <td>-2.4</td>\n",
       "      <td>0.0</td>\n",
       "      <td>0</td>\n",
       "      <td>0.3</td>\n",
       "      <td>3.4</td>\n",
       "      <td>12.3</td>\n",
       "      <td>49.0</td>\n",
       "      <td>10</td>\n",
       "    </tr>\n",
       "    <tr>\n",
       "      <th>2</th>\n",
       "      <td>55</td>\n",
       "      <td>0</td>\n",
       "      <td>175</td>\n",
       "      <td>94</td>\n",
       "      <td>100</td>\n",
       "      <td>202</td>\n",
       "      <td>380</td>\n",
       "      <td>179</td>\n",
       "      <td>143</td>\n",
       "      <td>28</td>\n",
       "      <td>...</td>\n",
       "      <td>0.0</td>\n",
       "      <td>12.2</td>\n",
       "      <td>-2.2</td>\n",
       "      <td>0.0</td>\n",
       "      <td>0</td>\n",
       "      <td>0.4</td>\n",
       "      <td>2.6</td>\n",
       "      <td>34.6</td>\n",
       "      <td>61.6</td>\n",
       "      <td>1</td>\n",
       "    </tr>\n",
       "    <tr>\n",
       "      <th>3</th>\n",
       "      <td>75</td>\n",
       "      <td>0</td>\n",
       "      <td>190</td>\n",
       "      <td>80</td>\n",
       "      <td>88</td>\n",
       "      <td>181</td>\n",
       "      <td>360</td>\n",
       "      <td>177</td>\n",
       "      <td>103</td>\n",
       "      <td>-16</td>\n",
       "      <td>...</td>\n",
       "      <td>0.0</td>\n",
       "      <td>13.1</td>\n",
       "      <td>-3.6</td>\n",
       "      <td>0.0</td>\n",
       "      <td>0</td>\n",
       "      <td>-0.1</td>\n",
       "      <td>3.9</td>\n",
       "      <td>25.4</td>\n",
       "      <td>62.8</td>\n",
       "      <td>7</td>\n",
       "    </tr>\n",
       "    <tr>\n",
       "      <th>4</th>\n",
       "      <td>13</td>\n",
       "      <td>0</td>\n",
       "      <td>169</td>\n",
       "      <td>51</td>\n",
       "      <td>100</td>\n",
       "      <td>167</td>\n",
       "      <td>321</td>\n",
       "      <td>174</td>\n",
       "      <td>91</td>\n",
       "      <td>107</td>\n",
       "      <td>...</td>\n",
       "      <td>-0.6</td>\n",
       "      <td>12.2</td>\n",
       "      <td>-2.8</td>\n",
       "      <td>0.0</td>\n",
       "      <td>0</td>\n",
       "      <td>0.9</td>\n",
       "      <td>2.2</td>\n",
       "      <td>13.5</td>\n",
       "      <td>31.1</td>\n",
       "      <td>14</td>\n",
       "    </tr>\n",
       "  </tbody>\n",
       "</table>\n",
       "<p>5 rows × 280 columns</p>\n",
       "</div>"
      ],
      "text/plain": [
       "   75  0  190  80   91  193  371  174  121  -16 ... 0.150     9 -0.9 0.151  \\\n",
       "0  56  1  165  64   81  174  401  149   39   25 ...   0.0   8.5  0.0   0.0   \n",
       "1  54  0  172  95  138  163  386  185  102   96 ...   0.0   9.5 -2.4   0.0   \n",
       "2  55  0  175  94  100  202  380  179  143   28 ...   0.0  12.2 -2.2   0.0   \n",
       "3  75  0  190  80   88  181  360  177  103  -16 ...   0.0  13.1 -3.6   0.0   \n",
       "4  13  0  169  51  100  167  321  174   91  107 ...  -0.6  12.2 -2.8   0.0   \n",
       "\n",
       "  0.152  0.9.3  2.9.1  23.3  49.4   8  \n",
       "0     0    0.2    2.1  20.4  38.8   6  \n",
       "1     0    0.3    3.4  12.3  49.0  10  \n",
       "2     0    0.4    2.6  34.6  61.6   1  \n",
       "3     0   -0.1    3.9  25.4  62.8   7  \n",
       "4     0    0.9    2.2  13.5  31.1  14  \n",
       "\n",
       "[5 rows x 280 columns]"
      ]
     },
     "execution_count": 38,
     "metadata": {},
     "output_type": "execute_result"
    }
   ],
   "source": [
    "data.head()"
   ]
  },
  {
   "cell_type": "code",
   "execution_count": 39,
   "metadata": {},
   "outputs": [
    {
     "name": "stdout",
     "output_type": "stream",
     "text": [
      "<class 'pandas.core.frame.DataFrame'>\n",
      "RangeIndex: 451 entries, 0 to 450\n",
      "Columns: 280 entries, 75 to 8\n",
      "dtypes: float64(116), int64(159), object(5)\n",
      "memory usage: 986.6+ KB\n"
     ]
    }
   ],
   "source": [
    "data.info()"
   ]
  },
  {
   "cell_type": "code",
   "execution_count": 40,
   "metadata": {
    "scrolled": true
   },
   "outputs": [
    {
     "data": {
      "text/html": [
       "<div>\n",
       "<style scoped>\n",
       "    .dataframe tbody tr th:only-of-type {\n",
       "        vertical-align: middle;\n",
       "    }\n",
       "\n",
       "    .dataframe tbody tr th {\n",
       "        vertical-align: top;\n",
       "    }\n",
       "\n",
       "    .dataframe thead th {\n",
       "        text-align: right;\n",
       "    }\n",
       "</style>\n",
       "<table border=\"1\" class=\"dataframe\">\n",
       "  <thead>\n",
       "    <tr style=\"text-align: right;\">\n",
       "      <th></th>\n",
       "      <th>75</th>\n",
       "      <th>0</th>\n",
       "      <th>190</th>\n",
       "      <th>80</th>\n",
       "      <th>91</th>\n",
       "      <th>193</th>\n",
       "      <th>371</th>\n",
       "      <th>174</th>\n",
       "      <th>121</th>\n",
       "      <th>-16</th>\n",
       "      <th>...</th>\n",
       "      <th>0.150</th>\n",
       "      <th>9</th>\n",
       "      <th>-0.9</th>\n",
       "      <th>0.151</th>\n",
       "      <th>0.152</th>\n",
       "      <th>0.9.3</th>\n",
       "      <th>2.9.1</th>\n",
       "      <th>23.3</th>\n",
       "      <th>49.4</th>\n",
       "      <th>8</th>\n",
       "    </tr>\n",
       "  </thead>\n",
       "  <tbody>\n",
       "    <tr>\n",
       "      <th>count</th>\n",
       "      <td>451.000000</td>\n",
       "      <td>451.000000</td>\n",
       "      <td>451.000000</td>\n",
       "      <td>451.000000</td>\n",
       "      <td>451.000000</td>\n",
       "      <td>451.000000</td>\n",
       "      <td>451.000000</td>\n",
       "      <td>451.000000</td>\n",
       "      <td>451.000000</td>\n",
       "      <td>451.000000</td>\n",
       "      <td>...</td>\n",
       "      <td>451.000000</td>\n",
       "      <td>451.000000</td>\n",
       "      <td>451.000000</td>\n",
       "      <td>451.000000</td>\n",
       "      <td>451.0</td>\n",
       "      <td>451.000000</td>\n",
       "      <td>451.000000</td>\n",
       "      <td>451.000000</td>\n",
       "      <td>451.000000</td>\n",
       "      <td>451.000000</td>\n",
       "    </tr>\n",
       "    <tr>\n",
       "      <th>mean</th>\n",
       "      <td>46.407982</td>\n",
       "      <td>0.552106</td>\n",
       "      <td>166.135255</td>\n",
       "      <td>68.144124</td>\n",
       "      <td>88.915743</td>\n",
       "      <td>155.068736</td>\n",
       "      <td>367.199557</td>\n",
       "      <td>169.940133</td>\n",
       "      <td>89.935698</td>\n",
       "      <td>33.787140</td>\n",
       "      <td>...</td>\n",
       "      <td>-0.279601</td>\n",
       "      <td>9.048115</td>\n",
       "      <td>-1.458537</td>\n",
       "      <td>0.003991</td>\n",
       "      <td>0.0</td>\n",
       "      <td>0.513969</td>\n",
       "      <td>1.218625</td>\n",
       "      <td>19.317295</td>\n",
       "      <td>29.429047</td>\n",
       "      <td>3.871397</td>\n",
       "    </tr>\n",
       "    <tr>\n",
       "      <th>std</th>\n",
       "      <td>16.429846</td>\n",
       "      <td>0.497830</td>\n",
       "      <td>37.194646</td>\n",
       "      <td>16.599841</td>\n",
       "      <td>15.381143</td>\n",
       "      <td>44.856534</td>\n",
       "      <td>33.422017</td>\n",
       "      <td>35.672130</td>\n",
       "      <td>25.813912</td>\n",
       "      <td>45.421423</td>\n",
       "      <td>...</td>\n",
       "      <td>0.549328</td>\n",
       "      <td>3.476718</td>\n",
       "      <td>2.004481</td>\n",
       "      <td>0.050173</td>\n",
       "      <td>0.0</td>\n",
       "      <td>0.347441</td>\n",
       "      <td>1.425438</td>\n",
       "      <td>13.517617</td>\n",
       "      <td>18.490566</td>\n",
       "      <td>4.407706</td>\n",
       "    </tr>\n",
       "    <tr>\n",
       "      <th>min</th>\n",
       "      <td>0.000000</td>\n",
       "      <td>0.000000</td>\n",
       "      <td>105.000000</td>\n",
       "      <td>6.000000</td>\n",
       "      <td>55.000000</td>\n",
       "      <td>0.000000</td>\n",
       "      <td>232.000000</td>\n",
       "      <td>108.000000</td>\n",
       "      <td>0.000000</td>\n",
       "      <td>-172.000000</td>\n",
       "      <td>...</td>\n",
       "      <td>-4.100000</td>\n",
       "      <td>0.000000</td>\n",
       "      <td>-28.600000</td>\n",
       "      <td>0.000000</td>\n",
       "      <td>0.0</td>\n",
       "      <td>-0.800000</td>\n",
       "      <td>-6.000000</td>\n",
       "      <td>-44.200000</td>\n",
       "      <td>-38.600000</td>\n",
       "      <td>1.000000</td>\n",
       "    </tr>\n",
       "    <tr>\n",
       "      <th>25%</th>\n",
       "      <td>36.000000</td>\n",
       "      <td>0.000000</td>\n",
       "      <td>160.000000</td>\n",
       "      <td>59.000000</td>\n",
       "      <td>80.000000</td>\n",
       "      <td>142.000000</td>\n",
       "      <td>350.000000</td>\n",
       "      <td>148.000000</td>\n",
       "      <td>79.000000</td>\n",
       "      <td>4.000000</td>\n",
       "      <td>...</td>\n",
       "      <td>-0.450000</td>\n",
       "      <td>6.600000</td>\n",
       "      <td>-2.100000</td>\n",
       "      <td>0.000000</td>\n",
       "      <td>0.0</td>\n",
       "      <td>0.400000</td>\n",
       "      <td>0.500000</td>\n",
       "      <td>11.400000</td>\n",
       "      <td>17.500000</td>\n",
       "      <td>1.000000</td>\n",
       "    </tr>\n",
       "    <tr>\n",
       "      <th>50%</th>\n",
       "      <td>47.000000</td>\n",
       "      <td>1.000000</td>\n",
       "      <td>164.000000</td>\n",
       "      <td>68.000000</td>\n",
       "      <td>86.000000</td>\n",
       "      <td>157.000000</td>\n",
       "      <td>367.000000</td>\n",
       "      <td>162.000000</td>\n",
       "      <td>91.000000</td>\n",
       "      <td>40.000000</td>\n",
       "      <td>...</td>\n",
       "      <td>0.000000</td>\n",
       "      <td>8.800000</td>\n",
       "      <td>-1.100000</td>\n",
       "      <td>0.000000</td>\n",
       "      <td>0.0</td>\n",
       "      <td>0.500000</td>\n",
       "      <td>1.300000</td>\n",
       "      <td>18.100000</td>\n",
       "      <td>27.900000</td>\n",
       "      <td>1.000000</td>\n",
       "    </tr>\n",
       "    <tr>\n",
       "      <th>75%</th>\n",
       "      <td>58.000000</td>\n",
       "      <td>1.000000</td>\n",
       "      <td>170.000000</td>\n",
       "      <td>78.500000</td>\n",
       "      <td>94.000000</td>\n",
       "      <td>174.500000</td>\n",
       "      <td>384.000000</td>\n",
       "      <td>179.000000</td>\n",
       "      <td>102.000000</td>\n",
       "      <td>66.000000</td>\n",
       "      <td>...</td>\n",
       "      <td>0.000000</td>\n",
       "      <td>11.200000</td>\n",
       "      <td>0.000000</td>\n",
       "      <td>0.000000</td>\n",
       "      <td>0.0</td>\n",
       "      <td>0.700000</td>\n",
       "      <td>2.100000</td>\n",
       "      <td>25.850000</td>\n",
       "      <td>41.050000</td>\n",
       "      <td>6.000000</td>\n",
       "    </tr>\n",
       "    <tr>\n",
       "      <th>max</th>\n",
       "      <td>83.000000</td>\n",
       "      <td>1.000000</td>\n",
       "      <td>780.000000</td>\n",
       "      <td>176.000000</td>\n",
       "      <td>188.000000</td>\n",
       "      <td>524.000000</td>\n",
       "      <td>509.000000</td>\n",
       "      <td>381.000000</td>\n",
       "      <td>205.000000</td>\n",
       "      <td>169.000000</td>\n",
       "      <td>...</td>\n",
       "      <td>0.000000</td>\n",
       "      <td>23.600000</td>\n",
       "      <td>0.000000</td>\n",
       "      <td>0.800000</td>\n",
       "      <td>0.0</td>\n",
       "      <td>2.400000</td>\n",
       "      <td>6.000000</td>\n",
       "      <td>88.800000</td>\n",
       "      <td>115.900000</td>\n",
       "      <td>16.000000</td>\n",
       "    </tr>\n",
       "  </tbody>\n",
       "</table>\n",
       "<p>8 rows × 275 columns</p>\n",
       "</div>"
      ],
      "text/plain": [
       "               75           0         190          80          91         193  \\\n",
       "count  451.000000  451.000000  451.000000  451.000000  451.000000  451.000000   \n",
       "mean    46.407982    0.552106  166.135255   68.144124   88.915743  155.068736   \n",
       "std     16.429846    0.497830   37.194646   16.599841   15.381143   44.856534   \n",
       "min      0.000000    0.000000  105.000000    6.000000   55.000000    0.000000   \n",
       "25%     36.000000    0.000000  160.000000   59.000000   80.000000  142.000000   \n",
       "50%     47.000000    1.000000  164.000000   68.000000   86.000000  157.000000   \n",
       "75%     58.000000    1.000000  170.000000   78.500000   94.000000  174.500000   \n",
       "max     83.000000    1.000000  780.000000  176.000000  188.000000  524.000000   \n",
       "\n",
       "              371         174         121         -16     ...           0.150  \\\n",
       "count  451.000000  451.000000  451.000000  451.000000     ...      451.000000   \n",
       "mean   367.199557  169.940133   89.935698   33.787140     ...       -0.279601   \n",
       "std     33.422017   35.672130   25.813912   45.421423     ...        0.549328   \n",
       "min    232.000000  108.000000    0.000000 -172.000000     ...       -4.100000   \n",
       "25%    350.000000  148.000000   79.000000    4.000000     ...       -0.450000   \n",
       "50%    367.000000  162.000000   91.000000   40.000000     ...        0.000000   \n",
       "75%    384.000000  179.000000  102.000000   66.000000     ...        0.000000   \n",
       "max    509.000000  381.000000  205.000000  169.000000     ...        0.000000   \n",
       "\n",
       "                9        -0.9       0.151  0.152       0.9.3       2.9.1  \\\n",
       "count  451.000000  451.000000  451.000000  451.0  451.000000  451.000000   \n",
       "mean     9.048115   -1.458537    0.003991    0.0    0.513969    1.218625   \n",
       "std      3.476718    2.004481    0.050173    0.0    0.347441    1.425438   \n",
       "min      0.000000  -28.600000    0.000000    0.0   -0.800000   -6.000000   \n",
       "25%      6.600000   -2.100000    0.000000    0.0    0.400000    0.500000   \n",
       "50%      8.800000   -1.100000    0.000000    0.0    0.500000    1.300000   \n",
       "75%     11.200000    0.000000    0.000000    0.0    0.700000    2.100000   \n",
       "max     23.600000    0.000000    0.800000    0.0    2.400000    6.000000   \n",
       "\n",
       "             23.3        49.4           8  \n",
       "count  451.000000  451.000000  451.000000  \n",
       "mean    19.317295   29.429047    3.871397  \n",
       "std     13.517617   18.490566    4.407706  \n",
       "min    -44.200000  -38.600000    1.000000  \n",
       "25%     11.400000   17.500000    1.000000  \n",
       "50%     18.100000   27.900000    1.000000  \n",
       "75%     25.850000   41.050000    6.000000  \n",
       "max     88.800000  115.900000   16.000000  \n",
       "\n",
       "[8 rows x 275 columns]"
      ]
     },
     "execution_count": 40,
     "metadata": {},
     "output_type": "execute_result"
    }
   ],
   "source": [
    "data.describe()"
   ]
  },
  {
   "cell_type": "code",
   "execution_count": 41,
   "metadata": {
    "scrolled": true
   },
   "outputs": [
    {
     "name": "stdout",
     "output_type": "stream",
     "text": [
      "<class 'pandas.core.frame.DataFrame'>\n",
      "RangeIndex: 451 entries, 0 to 450\n",
      "Columns: 280 entries, 75 to 8\n",
      "dtypes: float64(116), int64(159), object(5)\n",
      "memory usage: 986.6+ KB\n"
     ]
    }
   ],
   "source": [
    "data.info()\n"
   ]
  },
  {
   "cell_type": "code",
   "execution_count": 42,
   "metadata": {},
   "outputs": [
    {
     "data": {
      "text/html": [
       "<div>\n",
       "<style scoped>\n",
       "    .dataframe tbody tr th:only-of-type {\n",
       "        vertical-align: middle;\n",
       "    }\n",
       "\n",
       "    .dataframe tbody tr th {\n",
       "        vertical-align: top;\n",
       "    }\n",
       "\n",
       "    .dataframe thead th {\n",
       "        text-align: right;\n",
       "    }\n",
       "</style>\n",
       "<table border=\"1\" class=\"dataframe\">\n",
       "  <thead>\n",
       "    <tr style=\"text-align: right;\">\n",
       "      <th></th>\n",
       "      <th>75</th>\n",
       "      <th>0</th>\n",
       "      <th>190</th>\n",
       "      <th>80</th>\n",
       "      <th>91</th>\n",
       "      <th>193</th>\n",
       "      <th>371</th>\n",
       "      <th>174</th>\n",
       "      <th>121</th>\n",
       "      <th>-16</th>\n",
       "      <th>...</th>\n",
       "      <th>0.150</th>\n",
       "      <th>9</th>\n",
       "      <th>-0.9</th>\n",
       "      <th>0.151</th>\n",
       "      <th>0.152</th>\n",
       "      <th>0.9.3</th>\n",
       "      <th>2.9.1</th>\n",
       "      <th>23.3</th>\n",
       "      <th>49.4</th>\n",
       "      <th>8</th>\n",
       "    </tr>\n",
       "  </thead>\n",
       "  <tbody>\n",
       "    <tr>\n",
       "      <th>0</th>\n",
       "      <td>56</td>\n",
       "      <td>1</td>\n",
       "      <td>165</td>\n",
       "      <td>64</td>\n",
       "      <td>81</td>\n",
       "      <td>174</td>\n",
       "      <td>401</td>\n",
       "      <td>149</td>\n",
       "      <td>39</td>\n",
       "      <td>25</td>\n",
       "      <td>...</td>\n",
       "      <td>0.0</td>\n",
       "      <td>8.5</td>\n",
       "      <td>0.0</td>\n",
       "      <td>0.0</td>\n",
       "      <td>0</td>\n",
       "      <td>0.2</td>\n",
       "      <td>2.1</td>\n",
       "      <td>20.4</td>\n",
       "      <td>38.8</td>\n",
       "      <td>6</td>\n",
       "    </tr>\n",
       "    <tr>\n",
       "      <th>1</th>\n",
       "      <td>54</td>\n",
       "      <td>0</td>\n",
       "      <td>172</td>\n",
       "      <td>95</td>\n",
       "      <td>138</td>\n",
       "      <td>163</td>\n",
       "      <td>386</td>\n",
       "      <td>185</td>\n",
       "      <td>102</td>\n",
       "      <td>96</td>\n",
       "      <td>...</td>\n",
       "      <td>0.0</td>\n",
       "      <td>9.5</td>\n",
       "      <td>-2.4</td>\n",
       "      <td>0.0</td>\n",
       "      <td>0</td>\n",
       "      <td>0.3</td>\n",
       "      <td>3.4</td>\n",
       "      <td>12.3</td>\n",
       "      <td>49.0</td>\n",
       "      <td>10</td>\n",
       "    </tr>\n",
       "    <tr>\n",
       "      <th>2</th>\n",
       "      <td>55</td>\n",
       "      <td>0</td>\n",
       "      <td>175</td>\n",
       "      <td>94</td>\n",
       "      <td>100</td>\n",
       "      <td>202</td>\n",
       "      <td>380</td>\n",
       "      <td>179</td>\n",
       "      <td>143</td>\n",
       "      <td>28</td>\n",
       "      <td>...</td>\n",
       "      <td>0.0</td>\n",
       "      <td>12.2</td>\n",
       "      <td>-2.2</td>\n",
       "      <td>0.0</td>\n",
       "      <td>0</td>\n",
       "      <td>0.4</td>\n",
       "      <td>2.6</td>\n",
       "      <td>34.6</td>\n",
       "      <td>61.6</td>\n",
       "      <td>1</td>\n",
       "    </tr>\n",
       "    <tr>\n",
       "      <th>3</th>\n",
       "      <td>75</td>\n",
       "      <td>0</td>\n",
       "      <td>190</td>\n",
       "      <td>80</td>\n",
       "      <td>88</td>\n",
       "      <td>181</td>\n",
       "      <td>360</td>\n",
       "      <td>177</td>\n",
       "      <td>103</td>\n",
       "      <td>-16</td>\n",
       "      <td>...</td>\n",
       "      <td>0.0</td>\n",
       "      <td>13.1</td>\n",
       "      <td>-3.6</td>\n",
       "      <td>0.0</td>\n",
       "      <td>0</td>\n",
       "      <td>-0.1</td>\n",
       "      <td>3.9</td>\n",
       "      <td>25.4</td>\n",
       "      <td>62.8</td>\n",
       "      <td>7</td>\n",
       "    </tr>\n",
       "    <tr>\n",
       "      <th>4</th>\n",
       "      <td>13</td>\n",
       "      <td>0</td>\n",
       "      <td>169</td>\n",
       "      <td>51</td>\n",
       "      <td>100</td>\n",
       "      <td>167</td>\n",
       "      <td>321</td>\n",
       "      <td>174</td>\n",
       "      <td>91</td>\n",
       "      <td>107</td>\n",
       "      <td>...</td>\n",
       "      <td>-0.6</td>\n",
       "      <td>12.2</td>\n",
       "      <td>-2.8</td>\n",
       "      <td>0.0</td>\n",
       "      <td>0</td>\n",
       "      <td>0.9</td>\n",
       "      <td>2.2</td>\n",
       "      <td>13.5</td>\n",
       "      <td>31.1</td>\n",
       "      <td>14</td>\n",
       "    </tr>\n",
       "  </tbody>\n",
       "</table>\n",
       "<p>5 rows × 280 columns</p>\n",
       "</div>"
      ],
      "text/plain": [
       "   75  0  190  80   91  193  371  174  121  -16 ... 0.150     9 -0.9 0.151  \\\n",
       "0  56  1  165  64   81  174  401  149   39   25 ...   0.0   8.5  0.0   0.0   \n",
       "1  54  0  172  95  138  163  386  185  102   96 ...   0.0   9.5 -2.4   0.0   \n",
       "2  55  0  175  94  100  202  380  179  143   28 ...   0.0  12.2 -2.2   0.0   \n",
       "3  75  0  190  80   88  181  360  177  103  -16 ...   0.0  13.1 -3.6   0.0   \n",
       "4  13  0  169  51  100  167  321  174   91  107 ...  -0.6  12.2 -2.8   0.0   \n",
       "\n",
       "  0.152  0.9.3  2.9.1  23.3  49.4   8  \n",
       "0     0    0.2    2.1  20.4  38.8   6  \n",
       "1     0    0.3    3.4  12.3  49.0  10  \n",
       "2     0    0.4    2.6  34.6  61.6   1  \n",
       "3     0   -0.1    3.9  25.4  62.8   7  \n",
       "4     0    0.9    2.2  13.5  31.1  14  \n",
       "\n",
       "[5 rows x 280 columns]"
      ]
     },
     "execution_count": 42,
     "metadata": {},
     "output_type": "execute_result"
    }
   ],
   "source": [
    "data.head()"
   ]
  },
  {
   "cell_type": "code",
   "execution_count": 43,
   "metadata": {},
   "outputs": [
    {
     "data": {
      "text/html": [
       "<div>\n",
       "<style scoped>\n",
       "    .dataframe tbody tr th:only-of-type {\n",
       "        vertical-align: middle;\n",
       "    }\n",
       "\n",
       "    .dataframe tbody tr th {\n",
       "        vertical-align: top;\n",
       "    }\n",
       "\n",
       "    .dataframe thead th {\n",
       "        text-align: right;\n",
       "    }\n",
       "</style>\n",
       "<table border=\"1\" class=\"dataframe\">\n",
       "  <thead>\n",
       "    <tr style=\"text-align: right;\">\n",
       "      <th></th>\n",
       "      <th>75</th>\n",
       "      <th>0</th>\n",
       "      <th>190</th>\n",
       "      <th>80</th>\n",
       "      <th>91</th>\n",
       "      <th>193</th>\n",
       "      <th>371</th>\n",
       "      <th>174</th>\n",
       "      <th>121</th>\n",
       "      <th>-16</th>\n",
       "      <th>...</th>\n",
       "      <th>0.150</th>\n",
       "      <th>9</th>\n",
       "      <th>-0.9</th>\n",
       "      <th>0.151</th>\n",
       "      <th>0.152</th>\n",
       "      <th>0.9.3</th>\n",
       "      <th>2.9.1</th>\n",
       "      <th>23.3</th>\n",
       "      <th>49.4</th>\n",
       "      <th>8</th>\n",
       "    </tr>\n",
       "  </thead>\n",
       "  <tbody>\n",
       "    <tr>\n",
       "      <th>446</th>\n",
       "      <td>53</td>\n",
       "      <td>1</td>\n",
       "      <td>160</td>\n",
       "      <td>70</td>\n",
       "      <td>80</td>\n",
       "      <td>199</td>\n",
       "      <td>382</td>\n",
       "      <td>154</td>\n",
       "      <td>117</td>\n",
       "      <td>-37</td>\n",
       "      <td>...</td>\n",
       "      <td>0.0</td>\n",
       "      <td>4.3</td>\n",
       "      <td>-5.0</td>\n",
       "      <td>0.0</td>\n",
       "      <td>0</td>\n",
       "      <td>0.7</td>\n",
       "      <td>0.6</td>\n",
       "      <td>-4.4</td>\n",
       "      <td>-0.5</td>\n",
       "      <td>1</td>\n",
       "    </tr>\n",
       "    <tr>\n",
       "      <th>447</th>\n",
       "      <td>37</td>\n",
       "      <td>0</td>\n",
       "      <td>190</td>\n",
       "      <td>85</td>\n",
       "      <td>100</td>\n",
       "      <td>137</td>\n",
       "      <td>361</td>\n",
       "      <td>201</td>\n",
       "      <td>73</td>\n",
       "      <td>86</td>\n",
       "      <td>...</td>\n",
       "      <td>0.0</td>\n",
       "      <td>15.6</td>\n",
       "      <td>-1.6</td>\n",
       "      <td>0.0</td>\n",
       "      <td>0</td>\n",
       "      <td>0.4</td>\n",
       "      <td>2.4</td>\n",
       "      <td>38.0</td>\n",
       "      <td>62.4</td>\n",
       "      <td>10</td>\n",
       "    </tr>\n",
       "    <tr>\n",
       "      <th>448</th>\n",
       "      <td>36</td>\n",
       "      <td>0</td>\n",
       "      <td>166</td>\n",
       "      <td>68</td>\n",
       "      <td>108</td>\n",
       "      <td>176</td>\n",
       "      <td>365</td>\n",
       "      <td>194</td>\n",
       "      <td>116</td>\n",
       "      <td>-85</td>\n",
       "      <td>...</td>\n",
       "      <td>0.0</td>\n",
       "      <td>16.3</td>\n",
       "      <td>-28.6</td>\n",
       "      <td>0.0</td>\n",
       "      <td>0</td>\n",
       "      <td>1.5</td>\n",
       "      <td>1.0</td>\n",
       "      <td>-44.2</td>\n",
       "      <td>-33.2</td>\n",
       "      <td>2</td>\n",
       "    </tr>\n",
       "    <tr>\n",
       "      <th>449</th>\n",
       "      <td>32</td>\n",
       "      <td>1</td>\n",
       "      <td>155</td>\n",
       "      <td>55</td>\n",
       "      <td>93</td>\n",
       "      <td>106</td>\n",
       "      <td>386</td>\n",
       "      <td>218</td>\n",
       "      <td>63</td>\n",
       "      <td>54</td>\n",
       "      <td>...</td>\n",
       "      <td>-0.4</td>\n",
       "      <td>12.0</td>\n",
       "      <td>-0.7</td>\n",
       "      <td>0.0</td>\n",
       "      <td>0</td>\n",
       "      <td>0.5</td>\n",
       "      <td>2.4</td>\n",
       "      <td>25.0</td>\n",
       "      <td>46.6</td>\n",
       "      <td>1</td>\n",
       "    </tr>\n",
       "    <tr>\n",
       "      <th>450</th>\n",
       "      <td>78</td>\n",
       "      <td>1</td>\n",
       "      <td>160</td>\n",
       "      <td>70</td>\n",
       "      <td>79</td>\n",
       "      <td>127</td>\n",
       "      <td>364</td>\n",
       "      <td>138</td>\n",
       "      <td>78</td>\n",
       "      <td>28</td>\n",
       "      <td>...</td>\n",
       "      <td>0.0</td>\n",
       "      <td>10.4</td>\n",
       "      <td>-1.8</td>\n",
       "      <td>0.0</td>\n",
       "      <td>0</td>\n",
       "      <td>0.5</td>\n",
       "      <td>1.6</td>\n",
       "      <td>21.3</td>\n",
       "      <td>32.8</td>\n",
       "      <td>1</td>\n",
       "    </tr>\n",
       "  </tbody>\n",
       "</table>\n",
       "<p>5 rows × 280 columns</p>\n",
       "</div>"
      ],
      "text/plain": [
       "     75  0  190  80   91  193  371  174  121  -16 ... 0.150     9  -0.9 0.151  \\\n",
       "446  53  1  160  70   80  199  382  154  117  -37 ...   0.0   4.3  -5.0   0.0   \n",
       "447  37  0  190  85  100  137  361  201   73   86 ...   0.0  15.6  -1.6   0.0   \n",
       "448  36  0  166  68  108  176  365  194  116  -85 ...   0.0  16.3 -28.6   0.0   \n",
       "449  32  1  155  55   93  106  386  218   63   54 ...  -0.4  12.0  -0.7   0.0   \n",
       "450  78  1  160  70   79  127  364  138   78   28 ...   0.0  10.4  -1.8   0.0   \n",
       "\n",
       "    0.152  0.9.3  2.9.1  23.3  49.4   8  \n",
       "446     0    0.7    0.6  -4.4  -0.5   1  \n",
       "447     0    0.4    2.4  38.0  62.4  10  \n",
       "448     0    1.5    1.0 -44.2 -33.2   2  \n",
       "449     0    0.5    2.4  25.0  46.6   1  \n",
       "450     0    0.5    1.6  21.3  32.8   1  \n",
       "\n",
       "[5 rows x 280 columns]"
      ]
     },
     "execution_count": 43,
     "metadata": {},
     "output_type": "execute_result"
    }
   ],
   "source": [
    "data.tail()"
   ]
  },
  {
   "cell_type": "markdown",
   "metadata": {},
   "source": [
    "### Missing Data\n",
    "Because question mark '?' is of object type, this value is stringified and replaced with NaN before addressing missing data. \n",
    "\n",
    "Both 'ffill' and 'bfill' method are used to fill to cover every cells of NaN."
   ]
  },
  {
   "cell_type": "code",
   "execution_count": 44,
   "metadata": {},
   "outputs": [],
   "source": [
    "data[(data.astype(str) == '?')] = np.nan"
   ]
  },
  {
   "cell_type": "code",
   "execution_count": 45,
   "metadata": {},
   "outputs": [
    {
     "data": {
      "text/plain": [
       "Index(['13', '64', '-2', '?', '63'], dtype='object')"
      ]
     },
     "execution_count": 45,
     "metadata": {},
     "output_type": "execute_result"
    }
   ],
   "source": [
    "# Columns with missing data( '?')\n",
    "null_columns=data.columns[data.isnull().any()] \n",
    "data[null_columns].isnull().sum()\n",
    "null_columns"
   ]
  },
  {
   "cell_type": "code",
   "execution_count": 46,
   "metadata": {},
   "outputs": [
    {
     "name": "stdout",
     "output_type": "stream",
     "text": [
      "<class 'pandas.core.frame.DataFrame'>\n",
      "RangeIndex: 451 entries, 0 to 450\n",
      "Columns: 280 entries, 75 to 8\n",
      "dtypes: float64(116), int64(159), object(5)\n",
      "memory usage: 986.6+ KB\n"
     ]
    }
   ],
   "source": [
    "data= data.fillna( method='ffill') \n",
    "data= data.fillna( method='bfill')\n",
    "data.info()"
   ]
  },
  {
   "cell_type": "code",
   "execution_count": 47,
   "metadata": {},
   "outputs": [
    {
     "data": {
      "text/plain": [
       "Index([], dtype='object')"
      ]
     },
     "execution_count": 47,
     "metadata": {},
     "output_type": "execute_result"
    }
   ],
   "source": [
    "# Missing value double-check\n",
    "null_columns=data.columns[data.isnull().any()] \n",
    "data[null_columns].isnull().sum()\n",
    "null_columns"
   ]
  },
  {
   "cell_type": "markdown",
   "metadata": {},
   "source": [
    "### Data preprocessing"
   ]
  },
  {
   "cell_type": "code",
   "execution_count": 48,
   "metadata": {},
   "outputs": [],
   "source": [
    "X = data.loc[:, '75':'49.4']\n",
    "y= data['8']"
   ]
  },
  {
   "cell_type": "code",
   "execution_count": 49,
   "metadata": {},
   "outputs": [],
   "source": [
    "from sklearn.preprocessing import MinMaxScaler\n",
    "X_train, X_test, y_train, y_test = train_test_split(X,y, random_state = 10)\n",
    "\n",
    "scaler = MinMaxScaler()\n",
    "X_train = scaler.fit_transform(X_train)\n",
    "X_test = scaler.transform(X_test)"
   ]
  },
  {
   "cell_type": "markdown",
   "metadata": {},
   "source": [
    "# Part I: GridSeachCV, Bagging, Boosting, Voting Classifier\n",
    "- Evaluation strategy is GridSearchCV because it is fundamental to choose the best parameters."
   ]
  },
  {
   "cell_type": "markdown",
   "metadata": {},
   "source": [
    "## 1) GridSearchCV & Hard Voting ( Pure Estimators)\n"
   ]
  },
  {
   "cell_type": "markdown",
   "metadata": {},
   "source": [
    "#### K Nearest Neighbors ( K=5)"
   ]
  },
  {
   "cell_type": "code",
   "execution_count": 225,
   "metadata": {
    "scrolled": true
   },
   "outputs": [
    {
     "name": "stderr",
     "output_type": "stream",
     "text": [
      "c:\\users\\lenovo e560\\appdata\\local\\programs\\python\\python36\\lib\\site-packages\\sklearn\\model_selection\\_split.py:605: Warning: The least populated class in y has only 1 members, which is too few. The minimum number of members in any class cannot be less than n_splits=10.\n",
      "  % (min_groups, self.n_splits)), Warning)\n"
     ]
    },
    {
     "name": "stdout",
     "output_type": "stream",
     "text": [
      "Best parameters: {'n_neighbors': 5}\n",
      "Best cross-validation score: 0.57\n",
      "Best estimator:\n",
      "KNeighborsClassifier(algorithm='auto', leaf_size=30, metric='minkowski',\n",
      "           metric_params=None, n_jobs=1, n_neighbors=5, p=2,\n",
      "           weights='uniform')\n",
      "KNN score( training): 0.627219\n",
      "KNN score (testing): 0.637168\n"
     ]
    },
    {
     "name": "stderr",
     "output_type": "stream",
     "text": [
      "c:\\users\\lenovo e560\\appdata\\local\\programs\\python\\python36\\lib\\site-packages\\sklearn\\utils\\deprecation.py:122: FutureWarning: You are accessing a training score ('mean_train_score'), which will not be available by default any more in 0.21. If you need training scores, please set return_train_score=True\n",
      "  warnings.warn(*warn_args, **warn_kwargs)\n",
      "c:\\users\\lenovo e560\\appdata\\local\\programs\\python\\python36\\lib\\site-packages\\sklearn\\utils\\deprecation.py:122: FutureWarning: You are accessing a training score ('split0_train_score'), which will not be available by default any more in 0.21. If you need training scores, please set return_train_score=True\n",
      "  warnings.warn(*warn_args, **warn_kwargs)\n",
      "c:\\users\\lenovo e560\\appdata\\local\\programs\\python\\python36\\lib\\site-packages\\sklearn\\utils\\deprecation.py:122: FutureWarning: You are accessing a training score ('split1_train_score'), which will not be available by default any more in 0.21. If you need training scores, please set return_train_score=True\n",
      "  warnings.warn(*warn_args, **warn_kwargs)\n",
      "c:\\users\\lenovo e560\\appdata\\local\\programs\\python\\python36\\lib\\site-packages\\sklearn\\utils\\deprecation.py:122: FutureWarning: You are accessing a training score ('split2_train_score'), which will not be available by default any more in 0.21. If you need training scores, please set return_train_score=True\n",
      "  warnings.warn(*warn_args, **warn_kwargs)\n",
      "c:\\users\\lenovo e560\\appdata\\local\\programs\\python\\python36\\lib\\site-packages\\sklearn\\utils\\deprecation.py:122: FutureWarning: You are accessing a training score ('split3_train_score'), which will not be available by default any more in 0.21. If you need training scores, please set return_train_score=True\n",
      "  warnings.warn(*warn_args, **warn_kwargs)\n",
      "c:\\users\\lenovo e560\\appdata\\local\\programs\\python\\python36\\lib\\site-packages\\sklearn\\utils\\deprecation.py:122: FutureWarning: You are accessing a training score ('split4_train_score'), which will not be available by default any more in 0.21. If you need training scores, please set return_train_score=True\n",
      "  warnings.warn(*warn_args, **warn_kwargs)\n",
      "c:\\users\\lenovo e560\\appdata\\local\\programs\\python\\python36\\lib\\site-packages\\sklearn\\utils\\deprecation.py:122: FutureWarning: You are accessing a training score ('split5_train_score'), which will not be available by default any more in 0.21. If you need training scores, please set return_train_score=True\n",
      "  warnings.warn(*warn_args, **warn_kwargs)\n",
      "c:\\users\\lenovo e560\\appdata\\local\\programs\\python\\python36\\lib\\site-packages\\sklearn\\utils\\deprecation.py:122: FutureWarning: You are accessing a training score ('split6_train_score'), which will not be available by default any more in 0.21. If you need training scores, please set return_train_score=True\n",
      "  warnings.warn(*warn_args, **warn_kwargs)\n",
      "c:\\users\\lenovo e560\\appdata\\local\\programs\\python\\python36\\lib\\site-packages\\sklearn\\utils\\deprecation.py:122: FutureWarning: You are accessing a training score ('split7_train_score'), which will not be available by default any more in 0.21. If you need training scores, please set return_train_score=True\n",
      "  warnings.warn(*warn_args, **warn_kwargs)\n",
      "c:\\users\\lenovo e560\\appdata\\local\\programs\\python\\python36\\lib\\site-packages\\sklearn\\utils\\deprecation.py:122: FutureWarning: You are accessing a training score ('split8_train_score'), which will not be available by default any more in 0.21. If you need training scores, please set return_train_score=True\n",
      "  warnings.warn(*warn_args, **warn_kwargs)\n",
      "c:\\users\\lenovo e560\\appdata\\local\\programs\\python\\python36\\lib\\site-packages\\sklearn\\utils\\deprecation.py:122: FutureWarning: You are accessing a training score ('split9_train_score'), which will not be available by default any more in 0.21. If you need training scores, please set return_train_score=True\n",
      "  warnings.warn(*warn_args, **warn_kwargs)\n",
      "c:\\users\\lenovo e560\\appdata\\local\\programs\\python\\python36\\lib\\site-packages\\sklearn\\utils\\deprecation.py:122: FutureWarning: You are accessing a training score ('std_train_score'), which will not be available by default any more in 0.21. If you need training scores, please set return_train_score=True\n",
      "  warnings.warn(*warn_args, **warn_kwargs)\n"
     ]
    }
   ],
   "source": [
    "\n",
    "param = {'n_neighbors':[1,3,5,7,15,55]} #create dict of parameters\n",
    "\n",
    "grid_search_knn = GridSearchCV(KNeighborsClassifier(),param, cv=10) # each parameter has a cv of 10 folds.\n",
    "grid_search_knn.fit(X_train, y_train)\n",
    "print(\"Best parameters: {}\".format(grid_search_knn.best_params_)) \n",
    "print(\"Best cross-validation score: {:.2f}\".format(grid_search_knn.best_score_)) \n",
    "print(\"Best estimator:\\n{}\".format(grid_search_knn.best_estimator_))\n",
    "\n",
    "results = pd.DataFrame(grid_search_knn.cv_results_)\n",
    "scores = np.array(results.mean_test_score)\n",
    "train_score = grid_search_knn.score(X_train,y_train)\n",
    "test_score = grid_search_knn.score(X_test,y_test)\n",
    "print('KNN score( training): {:.6f}'\n",
    "     .format(train_score))\n",
    "print('KNN score (testing): {:.6f}'\n",
    "     .format(test_score))\n"
   ]
  },
  {
   "cell_type": "markdown",
   "metadata": {},
   "source": [
    "#### Logistic Regression( penalty='l1')"
   ]
  },
  {
   "cell_type": "code",
   "execution_count": 60,
   "metadata": {},
   "outputs": [
    {
     "name": "stderr",
     "output_type": "stream",
     "text": [
      "c:\\users\\lenovo e560\\appdata\\local\\programs\\python\\python36\\lib\\site-packages\\sklearn\\model_selection\\_split.py:605: Warning: The least populated class in y has only 1 members, which is too few. The minimum number of members in any class cannot be less than n_splits=10.\n",
      "  % (min_groups, self.n_splits)), Warning)\n"
     ]
    },
    {
     "name": "stdout",
     "output_type": "stream",
     "text": [
      "Best parameters: {'penalty': 'l1'}\n",
      "Best cross-validation score: 0.69\n",
      "Best estimator:\n",
      "LogisticRegression(C=1.0, class_weight=None, dual=False, fit_intercept=True,\n",
      "          intercept_scaling=1, max_iter=100, multi_class='ovr', n_jobs=1,\n",
      "          penalty='l1', random_state=None, solver='liblinear', tol=0.0001,\n",
      "          verbose=0, warm_start=False)\n",
      "LogReg score( training): 0.778107\n",
      "LogReg score (testing): 0.734513\n"
     ]
    },
    {
     "name": "stderr",
     "output_type": "stream",
     "text": [
      "c:\\users\\lenovo e560\\appdata\\local\\programs\\python\\python36\\lib\\site-packages\\sklearn\\utils\\deprecation.py:122: FutureWarning: You are accessing a training score ('mean_train_score'), which will not be available by default any more in 0.21. If you need training scores, please set return_train_score=True\n",
      "  warnings.warn(*warn_args, **warn_kwargs)\n",
      "c:\\users\\lenovo e560\\appdata\\local\\programs\\python\\python36\\lib\\site-packages\\sklearn\\utils\\deprecation.py:122: FutureWarning: You are accessing a training score ('split0_train_score'), which will not be available by default any more in 0.21. If you need training scores, please set return_train_score=True\n",
      "  warnings.warn(*warn_args, **warn_kwargs)\n",
      "c:\\users\\lenovo e560\\appdata\\local\\programs\\python\\python36\\lib\\site-packages\\sklearn\\utils\\deprecation.py:122: FutureWarning: You are accessing a training score ('split1_train_score'), which will not be available by default any more in 0.21. If you need training scores, please set return_train_score=True\n",
      "  warnings.warn(*warn_args, **warn_kwargs)\n",
      "c:\\users\\lenovo e560\\appdata\\local\\programs\\python\\python36\\lib\\site-packages\\sklearn\\utils\\deprecation.py:122: FutureWarning: You are accessing a training score ('split2_train_score'), which will not be available by default any more in 0.21. If you need training scores, please set return_train_score=True\n",
      "  warnings.warn(*warn_args, **warn_kwargs)\n",
      "c:\\users\\lenovo e560\\appdata\\local\\programs\\python\\python36\\lib\\site-packages\\sklearn\\utils\\deprecation.py:122: FutureWarning: You are accessing a training score ('split3_train_score'), which will not be available by default any more in 0.21. If you need training scores, please set return_train_score=True\n",
      "  warnings.warn(*warn_args, **warn_kwargs)\n",
      "c:\\users\\lenovo e560\\appdata\\local\\programs\\python\\python36\\lib\\site-packages\\sklearn\\utils\\deprecation.py:122: FutureWarning: You are accessing a training score ('split4_train_score'), which will not be available by default any more in 0.21. If you need training scores, please set return_train_score=True\n",
      "  warnings.warn(*warn_args, **warn_kwargs)\n",
      "c:\\users\\lenovo e560\\appdata\\local\\programs\\python\\python36\\lib\\site-packages\\sklearn\\utils\\deprecation.py:122: FutureWarning: You are accessing a training score ('split5_train_score'), which will not be available by default any more in 0.21. If you need training scores, please set return_train_score=True\n",
      "  warnings.warn(*warn_args, **warn_kwargs)\n",
      "c:\\users\\lenovo e560\\appdata\\local\\programs\\python\\python36\\lib\\site-packages\\sklearn\\utils\\deprecation.py:122: FutureWarning: You are accessing a training score ('split6_train_score'), which will not be available by default any more in 0.21. If you need training scores, please set return_train_score=True\n",
      "  warnings.warn(*warn_args, **warn_kwargs)\n",
      "c:\\users\\lenovo e560\\appdata\\local\\programs\\python\\python36\\lib\\site-packages\\sklearn\\utils\\deprecation.py:122: FutureWarning: You are accessing a training score ('split7_train_score'), which will not be available by default any more in 0.21. If you need training scores, please set return_train_score=True\n",
      "  warnings.warn(*warn_args, **warn_kwargs)\n",
      "c:\\users\\lenovo e560\\appdata\\local\\programs\\python\\python36\\lib\\site-packages\\sklearn\\utils\\deprecation.py:122: FutureWarning: You are accessing a training score ('split8_train_score'), which will not be available by default any more in 0.21. If you need training scores, please set return_train_score=True\n",
      "  warnings.warn(*warn_args, **warn_kwargs)\n",
      "c:\\users\\lenovo e560\\appdata\\local\\programs\\python\\python36\\lib\\site-packages\\sklearn\\utils\\deprecation.py:122: FutureWarning: You are accessing a training score ('split9_train_score'), which will not be available by default any more in 0.21. If you need training scores, please set return_train_score=True\n",
      "  warnings.warn(*warn_args, **warn_kwargs)\n",
      "c:\\users\\lenovo e560\\appdata\\local\\programs\\python\\python36\\lib\\site-packages\\sklearn\\utils\\deprecation.py:122: FutureWarning: You are accessing a training score ('std_train_score'), which will not be available by default any more in 0.21. If you need training scores, please set return_train_score=True\n",
      "  warnings.warn(*warn_args, **warn_kwargs)\n"
     ]
    }
   ],
   "source": [
    "\n",
    "paramlog = {'penalty':['l1','l2']} #create dict of parameters\n",
    "\n",
    "grid_search_log = GridSearchCV(LogisticRegression(),paramlog, cv=10) # each parameter has a cv of 10 folds.\n",
    "grid_search_log.fit(X_train, y_train)\n",
    "print(\"Best parameters: {}\".format(grid_search_log.best_params_)) \n",
    "print(\"Best cross-validation score: {:.2f}\".format(grid_search_log.best_score_)) \n",
    "print(\"Best estimator:\\n{}\".format(grid_search_log.best_estimator_))\n",
    "\n",
    "results = pd.DataFrame(grid_search_log.cv_results_)\n",
    "scores = np.array(results.mean_test_score)\n",
    "train_score = grid_search_log.score(X_train,y_train)\n",
    "test_score = grid_search_log.score(X_test,y_test)\n",
    "print('LogReg score( training): {:.6f}'\n",
    "     .format(train_score))\n",
    "print('LogReg score (testing): {:.6f}'\n",
    "     .format(test_score))\n"
   ]
  },
  {
   "cell_type": "markdown",
   "metadata": {},
   "source": [
    "#### Linear SVC \n",
    "Best Estimatorswithout Ensemble Method"
   ]
  },
  {
   "cell_type": "code",
   "execution_count": 268,
   "metadata": {},
   "outputs": [
    {
     "name": "stderr",
     "output_type": "stream",
     "text": [
      "c:\\users\\lenovo e560\\appdata\\local\\programs\\python\\python36\\lib\\site-packages\\sklearn\\model_selection\\_split.py:605: Warning: The least populated class in y has only 1 members, which is too few. The minimum number of members in any class cannot be less than n_splits=10.\n",
      "  % (min_groups, self.n_splits)), Warning)\n"
     ]
    },
    {
     "name": "stdout",
     "output_type": "stream",
     "text": [
      "Best parameters: {'C': 0.1}\n",
      "Best cross-validation score: 0.70\n",
      "Best estimator:\n",
      "LinearSVC(C=0.1, class_weight=None, dual=True, fit_intercept=True,\n",
      "     intercept_scaling=1, loss='squared_hinge', max_iter=1000,\n",
      "     multi_class='ovr', penalty='l2', random_state=None, tol=0.0001,\n",
      "     verbose=0)\n",
      "Linear svc score( training): 0.825444\n",
      "Linear svc score (testing): 0.761062\n"
     ]
    },
    {
     "name": "stderr",
     "output_type": "stream",
     "text": [
      "c:\\users\\lenovo e560\\appdata\\local\\programs\\python\\python36\\lib\\site-packages\\sklearn\\utils\\deprecation.py:122: FutureWarning: You are accessing a training score ('mean_train_score'), which will not be available by default any more in 0.21. If you need training scores, please set return_train_score=True\n",
      "  warnings.warn(*warn_args, **warn_kwargs)\n",
      "c:\\users\\lenovo e560\\appdata\\local\\programs\\python\\python36\\lib\\site-packages\\sklearn\\utils\\deprecation.py:122: FutureWarning: You are accessing a training score ('split0_train_score'), which will not be available by default any more in 0.21. If you need training scores, please set return_train_score=True\n",
      "  warnings.warn(*warn_args, **warn_kwargs)\n",
      "c:\\users\\lenovo e560\\appdata\\local\\programs\\python\\python36\\lib\\site-packages\\sklearn\\utils\\deprecation.py:122: FutureWarning: You are accessing a training score ('split1_train_score'), which will not be available by default any more in 0.21. If you need training scores, please set return_train_score=True\n",
      "  warnings.warn(*warn_args, **warn_kwargs)\n",
      "c:\\users\\lenovo e560\\appdata\\local\\programs\\python\\python36\\lib\\site-packages\\sklearn\\utils\\deprecation.py:122: FutureWarning: You are accessing a training score ('split2_train_score'), which will not be available by default any more in 0.21. If you need training scores, please set return_train_score=True\n",
      "  warnings.warn(*warn_args, **warn_kwargs)\n",
      "c:\\users\\lenovo e560\\appdata\\local\\programs\\python\\python36\\lib\\site-packages\\sklearn\\utils\\deprecation.py:122: FutureWarning: You are accessing a training score ('split3_train_score'), which will not be available by default any more in 0.21. If you need training scores, please set return_train_score=True\n",
      "  warnings.warn(*warn_args, **warn_kwargs)\n",
      "c:\\users\\lenovo e560\\appdata\\local\\programs\\python\\python36\\lib\\site-packages\\sklearn\\utils\\deprecation.py:122: FutureWarning: You are accessing a training score ('split4_train_score'), which will not be available by default any more in 0.21. If you need training scores, please set return_train_score=True\n",
      "  warnings.warn(*warn_args, **warn_kwargs)\n",
      "c:\\users\\lenovo e560\\appdata\\local\\programs\\python\\python36\\lib\\site-packages\\sklearn\\utils\\deprecation.py:122: FutureWarning: You are accessing a training score ('split5_train_score'), which will not be available by default any more in 0.21. If you need training scores, please set return_train_score=True\n",
      "  warnings.warn(*warn_args, **warn_kwargs)\n",
      "c:\\users\\lenovo e560\\appdata\\local\\programs\\python\\python36\\lib\\site-packages\\sklearn\\utils\\deprecation.py:122: FutureWarning: You are accessing a training score ('split6_train_score'), which will not be available by default any more in 0.21. If you need training scores, please set return_train_score=True\n",
      "  warnings.warn(*warn_args, **warn_kwargs)\n",
      "c:\\users\\lenovo e560\\appdata\\local\\programs\\python\\python36\\lib\\site-packages\\sklearn\\utils\\deprecation.py:122: FutureWarning: You are accessing a training score ('split7_train_score'), which will not be available by default any more in 0.21. If you need training scores, please set return_train_score=True\n",
      "  warnings.warn(*warn_args, **warn_kwargs)\n",
      "c:\\users\\lenovo e560\\appdata\\local\\programs\\python\\python36\\lib\\site-packages\\sklearn\\utils\\deprecation.py:122: FutureWarning: You are accessing a training score ('split8_train_score'), which will not be available by default any more in 0.21. If you need training scores, please set return_train_score=True\n",
      "  warnings.warn(*warn_args, **warn_kwargs)\n",
      "c:\\users\\lenovo e560\\appdata\\local\\programs\\python\\python36\\lib\\site-packages\\sklearn\\utils\\deprecation.py:122: FutureWarning: You are accessing a training score ('split9_train_score'), which will not be available by default any more in 0.21. If you need training scores, please set return_train_score=True\n",
      "  warnings.warn(*warn_args, **warn_kwargs)\n",
      "c:\\users\\lenovo e560\\appdata\\local\\programs\\python\\python36\\lib\\site-packages\\sklearn\\utils\\deprecation.py:122: FutureWarning: You are accessing a training score ('std_train_score'), which will not be available by default any more in 0.21. If you need training scores, please set return_train_score=True\n",
      "  warnings.warn(*warn_args, **warn_kwargs)\n"
     ]
    }
   ],
   "source": [
    "\n",
    "paramC = {'C':[0.01,0.1,1,10,100]} #create dict of parameters\n",
    "\n",
    "grid_search_svc = GridSearchCV(LinearSVC(),paramC, cv=10) # each parameter has a cv of 10 folds.\n",
    "grid_search_svc.fit(X_train, y_train)\n",
    "print(\"Best parameters: {}\".format(grid_search_svc.best_params_)) \n",
    "print(\"Best cross-validation score: {:.2f}\".format(grid_search_svc.best_score_)) \n",
    "print(\"Best estimator:\\n{}\".format(grid_search_svc.best_estimator_))\n",
    "\n",
    "results = pd.DataFrame(grid_search_svc.cv_results_)\n",
    "scores = np.array(results.mean_test_score)\n",
    "train_score = grid_search_svc.score(X_train,y_train)\n",
    "test_score = grid_search_svc.score(X_test,y_test)\n",
    "print('Linear svc score( training): {:.6f}'\n",
    "     .format(train_score))\n",
    "print('Linear svc score (testing): {:.6f}'\n",
    "     .format(test_score))\n"
   ]
  },
  {
   "cell_type": "markdown",
   "metadata": {},
   "source": [
    "#### Kernel SVC"
   ]
  },
  {
   "cell_type": "code",
   "execution_count": 267,
   "metadata": {
    "scrolled": true
   },
   "outputs": [
    {
     "name": "stderr",
     "output_type": "stream",
     "text": [
      "c:\\users\\lenovo e560\\appdata\\local\\programs\\python\\python36\\lib\\site-packages\\sklearn\\model_selection\\_split.py:605: Warning: The least populated class in y has only 1 members, which is too few. The minimum number of members in any class cannot be less than n_splits=10.\n",
      "  % (min_groups, self.n_splits)), Warning)\n"
     ]
    },
    {
     "name": "stdout",
     "output_type": "stream",
     "text": [
      "Best parameters: {'C': 100, 'gamma': 0.01}\n",
      "Best cross-validation score: 0.69\n",
      "Best estimator:\n",
      "SVC(C=100, cache_size=200, class_weight=None, coef0=0.0,\n",
      "  decision_function_shape='ovr', degree=3, gamma=0.01, kernel='rbf',\n",
      "  max_iter=-1, probability=False, random_state=None, shrinking=True,\n",
      "  tol=0.001, verbose=False)\n",
      "rbf score( training): 0.955621\n",
      "rbf score (testing): 0.716814\n"
     ]
    },
    {
     "name": "stderr",
     "output_type": "stream",
     "text": [
      "c:\\users\\lenovo e560\\appdata\\local\\programs\\python\\python36\\lib\\site-packages\\sklearn\\utils\\deprecation.py:122: FutureWarning: You are accessing a training score ('mean_train_score'), which will not be available by default any more in 0.21. If you need training scores, please set return_train_score=True\n",
      "  warnings.warn(*warn_args, **warn_kwargs)\n",
      "c:\\users\\lenovo e560\\appdata\\local\\programs\\python\\python36\\lib\\site-packages\\sklearn\\utils\\deprecation.py:122: FutureWarning: You are accessing a training score ('split0_train_score'), which will not be available by default any more in 0.21. If you need training scores, please set return_train_score=True\n",
      "  warnings.warn(*warn_args, **warn_kwargs)\n",
      "c:\\users\\lenovo e560\\appdata\\local\\programs\\python\\python36\\lib\\site-packages\\sklearn\\utils\\deprecation.py:122: FutureWarning: You are accessing a training score ('split1_train_score'), which will not be available by default any more in 0.21. If you need training scores, please set return_train_score=True\n",
      "  warnings.warn(*warn_args, **warn_kwargs)\n",
      "c:\\users\\lenovo e560\\appdata\\local\\programs\\python\\python36\\lib\\site-packages\\sklearn\\utils\\deprecation.py:122: FutureWarning: You are accessing a training score ('split2_train_score'), which will not be available by default any more in 0.21. If you need training scores, please set return_train_score=True\n",
      "  warnings.warn(*warn_args, **warn_kwargs)\n",
      "c:\\users\\lenovo e560\\appdata\\local\\programs\\python\\python36\\lib\\site-packages\\sklearn\\utils\\deprecation.py:122: FutureWarning: You are accessing a training score ('split3_train_score'), which will not be available by default any more in 0.21. If you need training scores, please set return_train_score=True\n",
      "  warnings.warn(*warn_args, **warn_kwargs)\n",
      "c:\\users\\lenovo e560\\appdata\\local\\programs\\python\\python36\\lib\\site-packages\\sklearn\\utils\\deprecation.py:122: FutureWarning: You are accessing a training score ('split4_train_score'), which will not be available by default any more in 0.21. If you need training scores, please set return_train_score=True\n",
      "  warnings.warn(*warn_args, **warn_kwargs)\n",
      "c:\\users\\lenovo e560\\appdata\\local\\programs\\python\\python36\\lib\\site-packages\\sklearn\\utils\\deprecation.py:122: FutureWarning: You are accessing a training score ('split5_train_score'), which will not be available by default any more in 0.21. If you need training scores, please set return_train_score=True\n",
      "  warnings.warn(*warn_args, **warn_kwargs)\n",
      "c:\\users\\lenovo e560\\appdata\\local\\programs\\python\\python36\\lib\\site-packages\\sklearn\\utils\\deprecation.py:122: FutureWarning: You are accessing a training score ('split6_train_score'), which will not be available by default any more in 0.21. If you need training scores, please set return_train_score=True\n",
      "  warnings.warn(*warn_args, **warn_kwargs)\n",
      "c:\\users\\lenovo e560\\appdata\\local\\programs\\python\\python36\\lib\\site-packages\\sklearn\\utils\\deprecation.py:122: FutureWarning: You are accessing a training score ('split7_train_score'), which will not be available by default any more in 0.21. If you need training scores, please set return_train_score=True\n",
      "  warnings.warn(*warn_args, **warn_kwargs)\n",
      "c:\\users\\lenovo e560\\appdata\\local\\programs\\python\\python36\\lib\\site-packages\\sklearn\\utils\\deprecation.py:122: FutureWarning: You are accessing a training score ('split8_train_score'), which will not be available by default any more in 0.21. If you need training scores, please set return_train_score=True\n",
      "  warnings.warn(*warn_args, **warn_kwargs)\n",
      "c:\\users\\lenovo e560\\appdata\\local\\programs\\python\\python36\\lib\\site-packages\\sklearn\\utils\\deprecation.py:122: FutureWarning: You are accessing a training score ('split9_train_score'), which will not be available by default any more in 0.21. If you need training scores, please set return_train_score=True\n",
      "  warnings.warn(*warn_args, **warn_kwargs)\n",
      "c:\\users\\lenovo e560\\appdata\\local\\programs\\python\\python36\\lib\\site-packages\\sklearn\\utils\\deprecation.py:122: FutureWarning: You are accessing a training score ('std_train_score'), which will not be available by default any more in 0.21. If you need training scores, please set return_train_score=True\n",
      "  warnings.warn(*warn_args, **warn_kwargs)\n"
     ]
    }
   ],
   "source": [
    "\n",
    "param_grid = {'C': [0.001, 0.01, 0.1, 1, 10, 100],\n",
    "              'gamma': [0.001, 0.01, 0.1, 1, 10, 100]} #create dict of parameters\n",
    "\n",
    "grid_search_rbf = GridSearchCV(SVC(kernel = 'rbf'),param_grid, cv=10) # each parameter has a cv of 10 folds.\n",
    "grid_search_rbf.fit(X_train, y_train)\n",
    "print(\"Best parameters: {}\".format(grid_search_rbf.best_params_)) \n",
    "print(\"Best cross-validation score: {:.2f}\".format(grid_search_rbf.best_score_)) \n",
    "print(\"Best estimator:\\n{}\".format(grid_search_rbf.best_estimator_))\n",
    "\n",
    "results = pd.DataFrame(grid_search_rbf.cv_results_)\n",
    "scores = np.array(results.mean_test_score)\n",
    "train_score = grid_search_rbf.score(X_train,y_train)\n",
    "test_score = grid_search_rbf.score(X_test,y_test)\n",
    "print('rbf score( training): {:.6f}'\n",
    "     .format(train_score))\n",
    "print('rbf score (testing): {:.6f}'\n",
    "     .format(test_score))\n"
   ]
  },
  {
   "cell_type": "markdown",
   "metadata": {},
   "source": [
    "#### Decision tree"
   ]
  },
  {
   "cell_type": "code",
   "execution_count": 53,
   "metadata": {},
   "outputs": [
    {
     "name": "stderr",
     "output_type": "stream",
     "text": [
      "c:\\users\\lenovo e560\\appdata\\local\\programs\\python\\python36\\lib\\site-packages\\sklearn\\model_selection\\_split.py:605: Warning: The least populated class in y has only 1 members, which is too few. The minimum number of members in any class cannot be less than n_splits=10.\n",
      "  % (min_groups, self.n_splits)), Warning)\n"
     ]
    },
    {
     "name": "stdout",
     "output_type": "stream",
     "text": [
      "Best parameters: {'max_depth': 8}\n",
      "Best cross-validation score: 0.66\n",
      "Best estimator:\n",
      "DecisionTreeClassifier(class_weight=None, criterion='gini', max_depth=8,\n",
      "            max_features=None, max_leaf_nodes=None,\n",
      "            min_impurity_decrease=0.0, min_impurity_split=None,\n",
      "            min_samples_leaf=1, min_samples_split=2,\n",
      "            min_weight_fraction_leaf=0.0, presort=False, random_state=None,\n",
      "            splitter='best')\n",
      "Decision Tree score( training): 0.905325\n",
      "Decision Tree score (testing): 0.690265\n"
     ]
    },
    {
     "name": "stderr",
     "output_type": "stream",
     "text": [
      "c:\\users\\lenovo e560\\appdata\\local\\programs\\python\\python36\\lib\\site-packages\\sklearn\\utils\\deprecation.py:122: FutureWarning: You are accessing a training score ('mean_train_score'), which will not be available by default any more in 0.21. If you need training scores, please set return_train_score=True\n",
      "  warnings.warn(*warn_args, **warn_kwargs)\n",
      "c:\\users\\lenovo e560\\appdata\\local\\programs\\python\\python36\\lib\\site-packages\\sklearn\\utils\\deprecation.py:122: FutureWarning: You are accessing a training score ('split0_train_score'), which will not be available by default any more in 0.21. If you need training scores, please set return_train_score=True\n",
      "  warnings.warn(*warn_args, **warn_kwargs)\n",
      "c:\\users\\lenovo e560\\appdata\\local\\programs\\python\\python36\\lib\\site-packages\\sklearn\\utils\\deprecation.py:122: FutureWarning: You are accessing a training score ('split1_train_score'), which will not be available by default any more in 0.21. If you need training scores, please set return_train_score=True\n",
      "  warnings.warn(*warn_args, **warn_kwargs)\n",
      "c:\\users\\lenovo e560\\appdata\\local\\programs\\python\\python36\\lib\\site-packages\\sklearn\\utils\\deprecation.py:122: FutureWarning: You are accessing a training score ('split2_train_score'), which will not be available by default any more in 0.21. If you need training scores, please set return_train_score=True\n",
      "  warnings.warn(*warn_args, **warn_kwargs)\n",
      "c:\\users\\lenovo e560\\appdata\\local\\programs\\python\\python36\\lib\\site-packages\\sklearn\\utils\\deprecation.py:122: FutureWarning: You are accessing a training score ('split3_train_score'), which will not be available by default any more in 0.21. If you need training scores, please set return_train_score=True\n",
      "  warnings.warn(*warn_args, **warn_kwargs)\n",
      "c:\\users\\lenovo e560\\appdata\\local\\programs\\python\\python36\\lib\\site-packages\\sklearn\\utils\\deprecation.py:122: FutureWarning: You are accessing a training score ('split4_train_score'), which will not be available by default any more in 0.21. If you need training scores, please set return_train_score=True\n",
      "  warnings.warn(*warn_args, **warn_kwargs)\n",
      "c:\\users\\lenovo e560\\appdata\\local\\programs\\python\\python36\\lib\\site-packages\\sklearn\\utils\\deprecation.py:122: FutureWarning: You are accessing a training score ('split5_train_score'), which will not be available by default any more in 0.21. If you need training scores, please set return_train_score=True\n",
      "  warnings.warn(*warn_args, **warn_kwargs)\n",
      "c:\\users\\lenovo e560\\appdata\\local\\programs\\python\\python36\\lib\\site-packages\\sklearn\\utils\\deprecation.py:122: FutureWarning: You are accessing a training score ('split6_train_score'), which will not be available by default any more in 0.21. If you need training scores, please set return_train_score=True\n",
      "  warnings.warn(*warn_args, **warn_kwargs)\n",
      "c:\\users\\lenovo e560\\appdata\\local\\programs\\python\\python36\\lib\\site-packages\\sklearn\\utils\\deprecation.py:122: FutureWarning: You are accessing a training score ('split7_train_score'), which will not be available by default any more in 0.21. If you need training scores, please set return_train_score=True\n",
      "  warnings.warn(*warn_args, **warn_kwargs)\n",
      "c:\\users\\lenovo e560\\appdata\\local\\programs\\python\\python36\\lib\\site-packages\\sklearn\\utils\\deprecation.py:122: FutureWarning: You are accessing a training score ('split8_train_score'), which will not be available by default any more in 0.21. If you need training scores, please set return_train_score=True\n",
      "  warnings.warn(*warn_args, **warn_kwargs)\n",
      "c:\\users\\lenovo e560\\appdata\\local\\programs\\python\\python36\\lib\\site-packages\\sklearn\\utils\\deprecation.py:122: FutureWarning: You are accessing a training score ('split9_train_score'), which will not be available by default any more in 0.21. If you need training scores, please set return_train_score=True\n",
      "  warnings.warn(*warn_args, **warn_kwargs)\n",
      "c:\\users\\lenovo e560\\appdata\\local\\programs\\python\\python36\\lib\\site-packages\\sklearn\\utils\\deprecation.py:122: FutureWarning: You are accessing a training score ('std_train_score'), which will not be available by default any more in 0.21. If you need training scores, please set return_train_score=True\n",
      "  warnings.warn(*warn_args, **warn_kwargs)\n"
     ]
    }
   ],
   "source": [
    "depth = {'max_depth':[8,58,108,138,158,208,258,279]} #create dict of parameters\n",
    "grid_search_dtc = GridSearchCV(dtc(),depth, cv=10) # each parameter has a cv of 10 folds.\n",
    "grid_search_dtc.fit(X_train, y_train)\n",
    "print(\"Best parameters: {}\".format(grid_search_dtc.best_params_)) \n",
    "print(\"Best cross-validation score: {:.2f}\".format(grid_search_dtc.best_score_)) \n",
    "print(\"Best estimator:\\n{}\".format(grid_search_dtc.best_estimator_))\n",
    "\n",
    "results = pd.DataFrame(grid_search_dtc.cv_results_)\n",
    "scores = np.array(results.mean_test_score)\n",
    "train_score = grid_search_dtc.score(X_train,y_train)\n",
    "test_score = grid_search_dtc.score(X_test,y_test)\n",
    "print('Decision Tree score( training): {:.6f}'\n",
    "     .format(train_score))\n",
    "print('Decision Tree score (testing): {:.6f}'\n",
    "     .format(test_score))\n"
   ]
  },
  {
   "cell_type": "markdown",
   "metadata": {},
   "source": [
    "#### Random Forest"
   ]
  },
  {
   "cell_type": "code",
   "execution_count": 55,
   "metadata": {
    "scrolled": true
   },
   "outputs": [
    {
     "name": "stderr",
     "output_type": "stream",
     "text": [
      "c:\\users\\lenovo e560\\appdata\\local\\programs\\python\\python36\\lib\\site-packages\\sklearn\\model_selection\\_split.py:605: Warning: The least populated class in y has only 1 members, which is too few. The minimum number of members in any class cannot be less than n_splits=10.\n",
      "  % (min_groups, self.n_splits)), Warning)\n"
     ]
    },
    {
     "name": "stdout",
     "output_type": "stream",
     "text": [
      "Best parameters: {'max_features': 235}\n",
      "Best cross-validation score: 0.74\n",
      "Best estimator:\n",
      "RandomForestClassifier(bootstrap=True, class_weight=None, criterion='gini',\n",
      "            max_depth=None, max_features=235, max_leaf_nodes=None,\n",
      "            min_impurity_decrease=0.0, min_impurity_split=None,\n",
      "            min_samples_leaf=1, min_samples_split=2,\n",
      "            min_weight_fraction_leaf=0.0, n_estimators=10, n_jobs=1,\n",
      "            oob_score=False, random_state=None, verbose=0,\n",
      "            warm_start=False)\n",
      "Random Forest score( training): 0.982249\n",
      "Random Forest score (testing): 0.761062\n"
     ]
    },
    {
     "name": "stderr",
     "output_type": "stream",
     "text": [
      "c:\\users\\lenovo e560\\appdata\\local\\programs\\python\\python36\\lib\\site-packages\\sklearn\\utils\\deprecation.py:122: FutureWarning: You are accessing a training score ('mean_train_score'), which will not be available by default any more in 0.21. If you need training scores, please set return_train_score=True\n",
      "  warnings.warn(*warn_args, **warn_kwargs)\n",
      "c:\\users\\lenovo e560\\appdata\\local\\programs\\python\\python36\\lib\\site-packages\\sklearn\\utils\\deprecation.py:122: FutureWarning: You are accessing a training score ('split0_train_score'), which will not be available by default any more in 0.21. If you need training scores, please set return_train_score=True\n",
      "  warnings.warn(*warn_args, **warn_kwargs)\n",
      "c:\\users\\lenovo e560\\appdata\\local\\programs\\python\\python36\\lib\\site-packages\\sklearn\\utils\\deprecation.py:122: FutureWarning: You are accessing a training score ('split1_train_score'), which will not be available by default any more in 0.21. If you need training scores, please set return_train_score=True\n",
      "  warnings.warn(*warn_args, **warn_kwargs)\n",
      "c:\\users\\lenovo e560\\appdata\\local\\programs\\python\\python36\\lib\\site-packages\\sklearn\\utils\\deprecation.py:122: FutureWarning: You are accessing a training score ('split2_train_score'), which will not be available by default any more in 0.21. If you need training scores, please set return_train_score=True\n",
      "  warnings.warn(*warn_args, **warn_kwargs)\n",
      "c:\\users\\lenovo e560\\appdata\\local\\programs\\python\\python36\\lib\\site-packages\\sklearn\\utils\\deprecation.py:122: FutureWarning: You are accessing a training score ('split3_train_score'), which will not be available by default any more in 0.21. If you need training scores, please set return_train_score=True\n",
      "  warnings.warn(*warn_args, **warn_kwargs)\n",
      "c:\\users\\lenovo e560\\appdata\\local\\programs\\python\\python36\\lib\\site-packages\\sklearn\\utils\\deprecation.py:122: FutureWarning: You are accessing a training score ('split4_train_score'), which will not be available by default any more in 0.21. If you need training scores, please set return_train_score=True\n",
      "  warnings.warn(*warn_args, **warn_kwargs)\n",
      "c:\\users\\lenovo e560\\appdata\\local\\programs\\python\\python36\\lib\\site-packages\\sklearn\\utils\\deprecation.py:122: FutureWarning: You are accessing a training score ('split5_train_score'), which will not be available by default any more in 0.21. If you need training scores, please set return_train_score=True\n",
      "  warnings.warn(*warn_args, **warn_kwargs)\n",
      "c:\\users\\lenovo e560\\appdata\\local\\programs\\python\\python36\\lib\\site-packages\\sklearn\\utils\\deprecation.py:122: FutureWarning: You are accessing a training score ('split6_train_score'), which will not be available by default any more in 0.21. If you need training scores, please set return_train_score=True\n",
      "  warnings.warn(*warn_args, **warn_kwargs)\n",
      "c:\\users\\lenovo e560\\appdata\\local\\programs\\python\\python36\\lib\\site-packages\\sklearn\\utils\\deprecation.py:122: FutureWarning: You are accessing a training score ('split7_train_score'), which will not be available by default any more in 0.21. If you need training scores, please set return_train_score=True\n",
      "  warnings.warn(*warn_args, **warn_kwargs)\n",
      "c:\\users\\lenovo e560\\appdata\\local\\programs\\python\\python36\\lib\\site-packages\\sklearn\\utils\\deprecation.py:122: FutureWarning: You are accessing a training score ('split8_train_score'), which will not be available by default any more in 0.21. If you need training scores, please set return_train_score=True\n",
      "  warnings.warn(*warn_args, **warn_kwargs)\n",
      "c:\\users\\lenovo e560\\appdata\\local\\programs\\python\\python36\\lib\\site-packages\\sklearn\\utils\\deprecation.py:122: FutureWarning: You are accessing a training score ('split9_train_score'), which will not be available by default any more in 0.21. If you need training scores, please set return_train_score=True\n",
      "  warnings.warn(*warn_args, **warn_kwargs)\n",
      "c:\\users\\lenovo e560\\appdata\\local\\programs\\python\\python36\\lib\\site-packages\\sklearn\\utils\\deprecation.py:122: FutureWarning: You are accessing a training score ('std_train_score'), which will not be available by default any more in 0.21. If you need training scores, please set return_train_score=True\n",
      "  warnings.warn(*warn_args, **warn_kwargs)\n"
     ]
    }
   ],
   "source": [
    "maxfeat = {'max_features':[8,10,50,75,105,235,255,275,279]} #create dict of parameters\n",
    "\n",
    "grid_search_rfc = GridSearchCV(rfc(),maxfeat, cv=10) # each parameter has a cv of 10 folds.\n",
    "grid_search_rfc.fit(X_train, y_train)\n",
    "print(\"Best parameters: {}\".format(grid_search_rfc.best_params_)) \n",
    "print(\"Best cross-validation score: {:.2f}\".format(grid_search_rfc.best_score_)) \n",
    "print(\"Best estimator:\\n{}\".format(grid_search_rfc.best_estimator_))\n",
    "\n",
    "results = pd.DataFrame(grid_search_rfc.cv_results_)\n",
    "scores = np.array(results.mean_test_score)\n",
    "train_score = grid_search_rfc.score(X_train,y_train)\n",
    "test_score = grid_search_rfc.score(X_test,y_test)\n",
    "print('Random Forest score( training): {:.6f}'\n",
    "     .format(train_score))\n",
    "print('Random Forest score (testing): {:.6f}'\n",
    "     .format(test_score))\n"
   ]
  },
  {
   "cell_type": "markdown",
   "metadata": {},
   "source": [
    "#### Hard voting\n",
    "In this section, 6 Estimators are used for final hard voting. \n",
    "\n",
    "Soft voting is not included since probability option is unavailable in Linear SVC. Also, It takes too long to calculate in Kernelized SVC. \n",
    "\n",
    "Best parameters chosen for each estimator:\n",
    "- KNN Classifier: k=5\n",
    "- Logistic Regressor: penalty='l1'\n",
    "- Linear SVC: C=0.1\n",
    "- Kernelized SVC: C=100, gamma =0.01\n",
    "- Decision Tree Classifier: Max_depth=8\n",
    "- Random Forest Classifier: Max_features= 279 ( may change due to PCA reduction)\n",
    "\n"
   ]
  },
  {
   "cell_type": "code",
   "execution_count": 50,
   "metadata": {},
   "outputs": [
    {
     "name": "stdout",
     "output_type": "stream",
     "text": [
      "Train score: 0.843195\n",
      "Test score: 0.752212\n"
     ]
    },
    {
     "name": "stderr",
     "output_type": "stream",
     "text": [
      "c:\\users\\lenovo e560\\appdata\\local\\programs\\python\\python36\\lib\\site-packages\\sklearn\\preprocessing\\label.py:151: DeprecationWarning: The truth value of an empty array is ambiguous. Returning False, but in future this will result in an error. Use `array.size > 0` to check that an array is not empty.\n",
      "  if diff:\n",
      "c:\\users\\lenovo e560\\appdata\\local\\programs\\python\\python36\\lib\\site-packages\\sklearn\\preprocessing\\label.py:151: DeprecationWarning: The truth value of an empty array is ambiguous. Returning False, but in future this will result in an error. Use `array.size > 0` to check that an array is not empty.\n",
      "  if diff:\n"
     ]
    }
   ],
   "source": [
    "knn_clf= KNeighborsClassifier(n_neighbors = 5)\n",
    "log_clf = LogisticRegression(penalty='l1',random_state=10)\n",
    "svm_clf = LinearSVC(C=0.1,random_state=10)\n",
    "rbf_clf= SVC(kernel = 'rbf', C =100, gamma =0.01, random_state=10)\n",
    "dtc_clf= dtc(max_depth=8, random_state=10)\n",
    "rfc_clf = rfc(max_features= 279, random_state=10)\n",
    "\n",
    "voting_clf = VotingClassifier(estimators=[('knn',knn_clf),('lr', log_clf), ('svc', svm_clf),\n",
    "                                          ('rbf',rbf_clf),('dtc',dtc_clf),('rfc', rfc_clf)], voting='hard')\n",
    "voting_clf.fit(X_train, y_train)\n",
    "print('Train score: {0:0.6f}'.format(voting_clf.score(X_train,y_train)))\n",
    "print('Test score: {0:0.6f}'.format(voting_clf.score(X_test,y_test)))"
   ]
  },
  {
   "cell_type": "markdown",
   "metadata": {},
   "source": [
    "##  2) Bagging Ensemble( excluding KNN)\n",
    "Because of the nature of K-nearest neighbor classifier, the sample weight is not supported for Bagging Ensemble."
   ]
  },
  {
   "cell_type": "code",
   "execution_count": 49,
   "metadata": {},
   "outputs": [],
   "source": [
    "from sklearn.ensemble import BaggingClassifier\n",
    "from sklearn.metrics import accuracy_score"
   ]
  },
  {
   "cell_type": "markdown",
   "metadata": {},
   "source": [
    "#### Logistic Regression"
   ]
  },
  {
   "cell_type": "code",
   "execution_count": 50,
   "metadata": {},
   "outputs": [
    {
     "name": "stdout",
     "output_type": "stream",
     "text": [
      "Train score: 0.811530\n",
      "Out of bag score: 0.709534\n"
     ]
    }
   ],
   "source": [
    "bag_log= BaggingClassifier(LogisticRegression(penalty='l1'), \n",
    "                           n_estimators=500, max_samples=100, bootstrap=True,oob_score=True, n_jobs=-1, random_state=10)\n",
    "bag_log.fit(X,y)\n",
    "print('Train score: {0:0.6f}'.format(bag_log.score(X,y)))\n",
    "print('Out of bag score: {0:0.6f}'.format(bag_log.oob_score_))"
   ]
  },
  {
   "cell_type": "markdown",
   "metadata": {},
   "source": [
    "### Linear SVC - The Best Estimator with 96% for Out-of-bag Score"
   ]
  },
  {
   "cell_type": "code",
   "execution_count": 111,
   "metadata": {},
   "outputs": [
    {
     "name": "stdout",
     "output_type": "stream",
     "text": [
      "Train score: 0.964523\n",
      "Out of bag score: 0.962306\n"
     ]
    }
   ],
   "source": [
    "bag_svc= BaggingClassifier(LinearSVC(C=0.1, random_state=10), \n",
    "                           n_estimators=500, max_samples=100, bootstrap=True, n_jobs=-1, random_state=10,oob_score=True)\n",
    "bag_svc.fit(X, y)\n",
    "print('Train score: {0:0.6f}'.format(bag_svc.score(X,y)))\n",
    "print('Out of bag score: {0:0.6f}'.format(bag_svc.oob_score_)) # Best one so far\n",
    "\n"
   ]
  },
  {
   "cell_type": "markdown",
   "metadata": {},
   "source": [
    "#### Kernelized SVC"
   ]
  },
  {
   "cell_type": "code",
   "execution_count": 109,
   "metadata": {},
   "outputs": [
    {
     "name": "stdout",
     "output_type": "stream",
     "text": [
      "Train score: 0.543237\n",
      "Out of bag score: 0.543237\n"
     ]
    }
   ],
   "source": [
    "bag_rbf=BaggingClassifier(SVC(kernel = 'rbf', C =100, gamma =0.01, random_state=10), \n",
    "                           n_estimators=500, max_samples=100, bootstrap=True, n_jobs=-1, random_state=10,oob_score=True)\n",
    "bag_rbf.fit(X, y)\n",
    "print('Train score: {0:0.6f}'.format(bag_rbf.score(X,y)))\n",
    "print('Out of bag score: {0:0.6f}'.format(bag_rbf.oob_score_))"
   ]
  },
  {
   "cell_type": "markdown",
   "metadata": {},
   "source": [
    "#### Decision tree"
   ]
  },
  {
   "cell_type": "code",
   "execution_count": 108,
   "metadata": {},
   "outputs": [
    {
     "name": "stdout",
     "output_type": "stream",
     "text": [
      "Train score: 0.824834\n",
      "Out of bag score: 0.722838\n"
     ]
    }
   ],
   "source": [
    "bag_dtc = BaggingClassifier(dtc(max_depth=8, random_state=10), \n",
    "                            n_estimators=500, max_samples=100, bootstrap=True, n_jobs=-1, random_state=10,oob_score=True)\n",
    "bag_dtc.fit(X, y)\n",
    "print('Train score: {0:0.6f}'.format(bag_dtc.score(X,y)))\n",
    "print('Out of bag score: {0:0.6f}'.format(bag_dtc.oob_score_))"
   ]
  },
  {
   "cell_type": "markdown",
   "metadata": {},
   "source": [
    "#### Random Forest"
   ]
  },
  {
   "cell_type": "code",
   "execution_count": 107,
   "metadata": {
    "scrolled": true
   },
   "outputs": [
    {
     "name": "stdout",
     "output_type": "stream",
     "text": [
      "Train score: 0.789357\n",
      "Out of bag score: 0.671840\n"
     ]
    }
   ],
   "source": [
    "bag_random_forest = BaggingClassifier(rfc(max_features= 279, random_state=10), \n",
    "                           n_estimators=500, max_samples=100, bootstrap=True, n_jobs=-1, random_state=10,oob_score=True)\n",
    "bag_random_forest.fit(X, y)\n",
    "print('Train score: {0:0.6f}'.format(bag_random_forest.score(X,y)))\n",
    "print('Out of bag score: {0:0.6f}'.format(bag_random_forest.oob_score_))"
   ]
  },
  {
   "cell_type": "markdown",
   "metadata": {},
   "source": [
    "#### Bagging Ensemble: Hard Voting"
   ]
  },
  {
   "cell_type": "code",
   "execution_count": 181,
   "metadata": {},
   "outputs": [
    {
     "name": "stderr",
     "output_type": "stream",
     "text": [
      "c:\\users\\lenovo e560\\appdata\\local\\programs\\python\\python36\\lib\\site-packages\\sklearn\\preprocessing\\label.py:151: DeprecationWarning: The truth value of an empty array is ambiguous. Returning False, but in future this will result in an error. Use `array.size > 0` to check that an array is not empty.\n",
      "  if diff:\n"
     ]
    },
    {
     "name": "stdout",
     "output_type": "stream",
     "text": [
      "Train score: 0.766272\n",
      "Test score: 0.663717\n"
     ]
    },
    {
     "name": "stderr",
     "output_type": "stream",
     "text": [
      "c:\\users\\lenovo e560\\appdata\\local\\programs\\python\\python36\\lib\\site-packages\\sklearn\\preprocessing\\label.py:151: DeprecationWarning: The truth value of an empty array is ambiguous. Returning False, but in future this will result in an error. Use `array.size > 0` to check that an array is not empty.\n",
      "  if diff:\n"
     ]
    }
   ],
   "source": [
    "voting_bag_clf = VotingClassifier(estimators=[('lr',bag_log), ('svc',bag_svc),\n",
    "                                          ('rbf',bag_rbf),('dtc',bag_dtc),('rfc', bag_random_forest)], voting='hard')\n",
    "voting_bag_clf.fit(X_train, y_train)\n",
    "print('Train score: {0:0.6f}'.format(voting_bag_clf.score(X_train,y_train)))\n",
    "print('Test score: {0:0.6f}'.format(voting_bag_clf.score(X_test,y_test)))"
   ]
  },
  {
   "cell_type": "markdown",
   "metadata": {},
   "source": [
    "## 3) Boosting Ensemble (excluding KNN)\n",
    "Because of the nature of K-nearest neighbor classifier, the sample weight is not supported for Boosting Ensemble."
   ]
  },
  {
   "cell_type": "code",
   "execution_count": 115,
   "metadata": {},
   "outputs": [],
   "source": [
    "from sklearn.ensemble import AdaBoostClassifier"
   ]
  },
  {
   "cell_type": "markdown",
   "metadata": {},
   "source": [
    "#### Logistic Regression"
   ]
  },
  {
   "cell_type": "code",
   "execution_count": 128,
   "metadata": {},
   "outputs": [
    {
     "name": "stdout",
     "output_type": "stream",
     "text": [
      "Train score: 0.529586\n",
      "Test score: 0.584071\n"
     ]
    }
   ],
   "source": [
    "ada_log = AdaBoostClassifier(\n",
    "    LogisticRegression(penalty='l1'), n_estimators=500,\n",
    "    algorithm=\"SAMME.R\", learning_rate=0.5, random_state=10)\n",
    "ada_log.fit(X_train, y_train)\n",
    "print('Train score: {0:0.6f}'.format(ada_log.score(X_train,y_train)))\n",
    "print('Test score: {0:0.6f}'.format(ada_log.score(X_test,y_test)))"
   ]
  },
  {
   "cell_type": "markdown",
   "metadata": {},
   "source": [
    "#### Linear SVC"
   ]
  },
  {
   "cell_type": "code",
   "execution_count": 126,
   "metadata": {},
   "outputs": [
    {
     "name": "stdout",
     "output_type": "stream",
     "text": [
      "Train score: 0.825444\n",
      "Test score: 0.761062\n"
     ]
    }
   ],
   "source": [
    "ada_svc = AdaBoostClassifier(\n",
    "    LinearSVC(C=0.1), n_estimators=500,\n",
    "    algorithm=\"SAMME\", learning_rate=0.5, random_state=10)\n",
    "ada_svc.fit(X_train, y_train)\n",
    "print('Train score: {0:0.6f}'.format(ada_svc.score(X_train,y_train)))\n",
    "print('Test score: {0:0.6f}'.format(ada_svc.score(X_test,y_test)))"
   ]
  },
  {
   "cell_type": "markdown",
   "metadata": {},
   "source": [
    "#### Kernelized SVC"
   ]
  },
  {
   "cell_type": "code",
   "execution_count": 129,
   "metadata": {},
   "outputs": [
    {
     "name": "stdout",
     "output_type": "stream",
     "text": [
      "Train score: 0.535503\n",
      "Test score: 0.584071\n"
     ]
    }
   ],
   "source": [
    "ada_rbf = AdaBoostClassifier(\n",
    "    SVC(kernel = 'rbf', C =100, gamma =0.01, random_state=10), n_estimators=500,\n",
    "    algorithm=\"SAMME\", learning_rate=0.5, random_state=10)\n",
    "ada_rbf.fit(X_train, y_train)\n",
    "print('Train score: {0:0.6f}'.format(ada_rbf.score(X_train,y_train)))\n",
    "print('Test score: {0:0.6f}'.format(ada_rbf.score(X_test,y_test)))"
   ]
  },
  {
   "cell_type": "markdown",
   "metadata": {},
   "source": [
    "#### Decision tree"
   ]
  },
  {
   "cell_type": "code",
   "execution_count": 132,
   "metadata": {},
   "outputs": [
    {
     "name": "stdout",
     "output_type": "stream",
     "text": [
      "Train score: 1.000000\n",
      "Test score: 0.681416\n"
     ]
    }
   ],
   "source": [
    "ada_dtc = AdaBoostClassifier(\n",
    "    dtc(max_depth=8), n_estimators=500,\n",
    "    algorithm=\"SAMME.R\", learning_rate=0.5, random_state=10)\n",
    "ada_dtc.fit(X_train, y_train)\n",
    "print('Train score: {0:0.6f}'.format(ada_dtc.score(X_train,y_train)))\n",
    "print('Test score: {0:0.6f}'.format(ada_dtc.score(X_test,y_test)))\n"
   ]
  },
  {
   "cell_type": "code",
   "execution_count": 135,
   "metadata": {},
   "outputs": [
    {
     "name": "stdout",
     "output_type": "stream",
     "text": [
      "Train score: 1.000000\n",
      "Test score: 0.769912\n",
      "Feature Importance:\n"
     ]
    }
   ],
   "source": [
    "from sklearn.ensemble import GradientBoostingClassifier\n",
    "gb_clf = GradientBoostingClassifier(learning_rate = 0.05)\n",
    "gb_clf.fit(X_train,y_train)\n",
    "print('Train score: {0:0.6f}'.format(gb_clf.score(X_train,y_train)))\n",
    "print('Test score: {0:0.6f}'.format(gb_clf.score(X_test,y_test)))\n",
    "print('Feature Importance:'.format(gb_clf.feature_importances_))"
   ]
  },
  {
   "cell_type": "markdown",
   "metadata": {},
   "source": [
    "#### Random Forest"
   ]
  },
  {
   "cell_type": "code",
   "execution_count": 133,
   "metadata": {},
   "outputs": [
    {
     "name": "stdout",
     "output_type": "stream",
     "text": [
      "Train score: 1.000000\n",
      "Test score: 0.716814\n"
     ]
    }
   ],
   "source": [
    "ada_rfc = AdaBoostClassifier(\n",
    "    rfc(max_features= 279, random_state=10), n_estimators=500,\n",
    "    algorithm=\"SAMME.R\", learning_rate=0.5, random_state=10)\n",
    "ada_rfc.fit(X_train, y_train)\n",
    "print('Train score: {0:0.6f}'.format(ada_rfc.score(X_train,y_train)))\n",
    "print('Test score: {0:0.6f}'.format(ada_rfc.score(X_test,y_test)))"
   ]
  },
  {
   "cell_type": "markdown",
   "metadata": {},
   "source": [
    "#### Adaboost Ensemble: Hard voting"
   ]
  },
  {
   "cell_type": "code",
   "execution_count": 182,
   "metadata": {},
   "outputs": [
    {
     "name": "stderr",
     "output_type": "stream",
     "text": [
      "c:\\users\\lenovo e560\\appdata\\local\\programs\\python\\python36\\lib\\site-packages\\sklearn\\preprocessing\\label.py:151: DeprecationWarning: The truth value of an empty array is ambiguous. Returning False, but in future this will result in an error. Use `array.size > 0` to check that an array is not empty.\n",
      "  if diff:\n"
     ]
    },
    {
     "name": "stdout",
     "output_type": "stream",
     "text": [
      "Train score: 0.828402\n",
      "Test score: 0.663717\n"
     ]
    },
    {
     "name": "stderr",
     "output_type": "stream",
     "text": [
      "c:\\users\\lenovo e560\\appdata\\local\\programs\\python\\python36\\lib\\site-packages\\sklearn\\preprocessing\\label.py:151: DeprecationWarning: The truth value of an empty array is ambiguous. Returning False, but in future this will result in an error. Use `array.size > 0` to check that an array is not empty.\n",
      "  if diff:\n"
     ]
    }
   ],
   "source": [
    "voting_ada_clf = VotingClassifier(estimators=[('lr',ada_log), ('svc',ada_svc),\n",
    "                                          ('rbf',ada_rbf),('dtc',ada_dtc),('rfc', ada_rfc)], voting='hard')\n",
    "voting_ada_clf.fit(X_train, y_train)\n",
    "print('Train score: {0:0.6f}'.format(voting_ada_clf.score(X_train,y_train)))\n",
    "print('Test score: {0:0.6f}'.format(voting_ada_clf.score(X_test,y_test)))"
   ]
  },
  {
   "cell_type": "markdown",
   "metadata": {},
   "source": [
    "# Part II: Data Reduction ( Bagging/Boosting/Pure Estimators)\n",
    "\n",
    "In this section, PCA is calculated Bagging/ Boosting, and Original Estimators. X_train and X_test sets are used for Boosting and Original Estimators. For Bagging Ensemble, X_combined is created for the purpose of generating Out-of-bag set."
   ]
  },
  {
   "cell_type": "code",
   "execution_count": 26,
   "metadata": {},
   "outputs": [
    {
     "name": "stdout",
     "output_type": "stream",
     "text": [
      "82\n",
      "0.950684113118704\n"
     ]
    }
   ],
   "source": [
    "pca = PCA()\n",
    "pca.fit(X_train)\n",
    "cumsum = np.cumsum(pca.explained_variance_ratio_)\n",
    "d = np.argmax(cumsum >= 0.95) + 1\n",
    "\n",
    "pca = PCA(n_components=0.95)\n",
    "X_reduced = pca.fit_transform(X_train)\n",
    "\n",
    "print(pca.n_components_)\n",
    "print(np.sum(pca.explained_variance_ratio_))"
   ]
  },
  {
   "cell_type": "code",
   "execution_count": 27,
   "metadata": {},
   "outputs": [],
   "source": [
    "pca = PCA(n_components = 82)\n",
    "X_reduced = pca.fit_transform(X_train)\n",
    "X_test_reduced= pca.transform(X_test)"
   ]
  },
  {
   "cell_type": "code",
   "execution_count": 30,
   "metadata": {},
   "outputs": [],
   "source": [
    "X_combined = np.concatenate((X_reduced, X_test_reduced), axis=0)\n",
    "X_combined.shape"
   ]
  },
  {
   "cell_type": "markdown",
   "metadata": {},
   "source": [
    "### 1) Bagging (PCA)\n"
   ]
  },
  {
   "cell_type": "code",
   "execution_count": 36,
   "metadata": {},
   "outputs": [
    {
     "name": "stdout",
     "output_type": "stream",
     "text": [
      "Train score: 0.543237\n",
      "Out of bag score: 0.543237\n"
     ]
    }
   ],
   "source": [
    "# Logistic Regression\n",
    "bag_log= BaggingClassifier(LogisticRegression(penalty='l1'), \n",
    "                           n_estimators=500, max_samples=100, bootstrap=True,oob_score=True, n_jobs=-1, random_state=10)\n",
    "bag_log.fit(X_combined,y)\n",
    "print('Train score: {0:0.6f}'.format(bag_log.score(X_combined,y)))\n",
    "print('Out of bag score: {0:0.6f}'.format(bag_log.oob_score_))"
   ]
  },
  {
   "cell_type": "code",
   "execution_count": 37,
   "metadata": {},
   "outputs": [
    {
     "name": "stdout",
     "output_type": "stream",
     "text": [
      "Train score: 0.578714\n",
      "Out of bag score: 0.578714\n"
     ]
    }
   ],
   "source": [
    "#Linear SVC\n",
    "bag_svc= BaggingClassifier(LinearSVC(C=0.1, random_state=10), \n",
    "                           n_estimators=500, max_samples=100, bootstrap=True, n_jobs=-1, random_state=10,oob_score=True)\n",
    "bag_svc.fit(X_combined, y)\n",
    "print('Train score: {0:0.6f}'.format(bag_svc.score(X_combined,y)))\n",
    "print('Out of bag score: {0:0.6f}'.format(bag_svc.oob_score_)) "
   ]
  },
  {
   "cell_type": "code",
   "execution_count": 38,
   "metadata": {},
   "outputs": [
    {
     "name": "stdout",
     "output_type": "stream",
     "text": [
      "Train score: 0.545455\n",
      "Out of bag score: 0.543237\n"
     ]
    }
   ],
   "source": [
    "#Kernelized SVC\n",
    "bag_rbf=BaggingClassifier(SVC(kernel = 'rbf', C =100, gamma =0.01, random_state=10), \n",
    "                           n_estimators=500, max_samples=100, bootstrap=True, n_jobs=-1, random_state=10,oob_score=True)\n",
    "bag_rbf.fit(X_combined, y)\n",
    "print('Train score: {0:0.6f}'.format(bag_rbf.score(X_combined,y)))\n",
    "print('Out of bag score: {0:0.6f}'.format(bag_rbf.oob_score_))"
   ]
  },
  {
   "cell_type": "code",
   "execution_count": 39,
   "metadata": {},
   "outputs": [
    {
     "name": "stdout",
     "output_type": "stream",
     "text": [
      "Train score: 0.572062\n",
      "Out of bag score: 0.543237\n"
     ]
    }
   ],
   "source": [
    "#Decision Tree Classifier\n",
    "bag_dtc = BaggingClassifier(dtc(max_depth=8, random_state=10), \n",
    "                            n_estimators=500, max_samples=100, bootstrap=True, n_jobs=-1, random_state=10,oob_score=True)\n",
    "bag_dtc.fit(X_combined, y)\n",
    "print('Train score: {0:0.6f}'.format(bag_dtc.score(X_combined,y)))\n",
    "print('Out of bag score: {0:0.6f}'.format(bag_dtc.oob_score_))"
   ]
  },
  {
   "cell_type": "code",
   "execution_count": 41,
   "metadata": {},
   "outputs": [
    {
     "name": "stdout",
     "output_type": "stream",
     "text": [
      "Train score: 0.547672\n",
      "Out of bag score: 0.543237\n"
     ]
    }
   ],
   "source": [
    "# Random Forest (features are 82)\n",
    "bag_random_forest = BaggingClassifier(rfc(max_features= 82, random_state=10), \n",
    "                           n_estimators=500, max_samples=100, bootstrap=True, n_jobs=-1, random_state=10,oob_score=True)\n",
    "bag_random_forest.fit(X_combined, y)\n",
    "print('Train score: {0:0.6f}'.format(bag_random_forest.score(X_combined,y)))\n",
    "print('Out of bag score: {0:0.6f}'.format(bag_random_forest.oob_score_))"
   ]
  },
  {
   "cell_type": "markdown",
   "metadata": {},
   "source": [
    "### 2) Boosting (PCA)\n",
    "\n",
    "Boosting uses splitted training and testing datasets of predictors( X_train/ X_test)"
   ]
  },
  {
   "cell_type": "code",
   "execution_count": 157,
   "metadata": {},
   "outputs": [],
   "source": [
    "from sklearn.ensemble import AdaBoostClassifier"
   ]
  },
  {
   "cell_type": "code",
   "execution_count": 160,
   "metadata": {},
   "outputs": [
    {
     "name": "stdout",
     "output_type": "stream",
     "text": [
      "Train score: 0.529586\n",
      "Test score: 0.584071\n"
     ]
    }
   ],
   "source": [
    "# Logistic Regression\n",
    "ada_log = AdaBoostClassifier(\n",
    "    LogisticRegression(penalty='l1'), n_estimators=500,\n",
    "    algorithm=\"SAMME.R\", learning_rate=0.5, random_state=10)\n",
    "ada_log.fit(X_reduced, y_train)\n",
    "print('Train score: {0:0.6f}'.format(ada_log.score(X_reduced,y_train)))\n",
    "print('Test score: {0:0.6f}'.format(ada_log.score(X_test_reduced,y_test)))"
   ]
  },
  {
   "cell_type": "code",
   "execution_count": 161,
   "metadata": {},
   "outputs": [
    {
     "name": "stdout",
     "output_type": "stream",
     "text": [
      "Train score: 0.801775\n",
      "Test score: 0.761062\n"
     ]
    }
   ],
   "source": [
    "#Linear SVC\n",
    "ada_svc = AdaBoostClassifier(\n",
    "    LinearSVC(C=0.1), n_estimators=500,\n",
    "    algorithm=\"SAMME\", learning_rate=0.5, random_state=10)\n",
    "ada_svc.fit(X_reduced, y_train)\n",
    "print('Train score: {0:0.6f}'.format(ada_svc.score(X_reduced,y_train)))\n",
    "print('Test score: {0:0.6f}'.format(ada_svc.score(X_test_reduced,y_test)))"
   ]
  },
  {
   "cell_type": "code",
   "execution_count": 165,
   "metadata": {},
   "outputs": [
    {
     "name": "stdout",
     "output_type": "stream",
     "text": [
      "Train score: 0.535503\n",
      "Test score: 0.584071\n"
     ]
    }
   ],
   "source": [
    "#Kernelized SVC\n",
    "ada_rbf = AdaBoostClassifier(\n",
    "    SVC(kernel = 'rbf', C =100, gamma =0.01, random_state=10), n_estimators=500,\n",
    "    algorithm=\"SAMME\", learning_rate=0.5, random_state=10)\n",
    "ada_rbf.fit(X_reduced, y_train)\n",
    "print('Train score: {0:0.6f}'.format(ada_rbf.score(X_reduced,y_train)))\n",
    "print('Test score: {0:0.6f}'.format(ada_rbf.score(X_test_reduced,y_test)))"
   ]
  },
  {
   "cell_type": "code",
   "execution_count": 132,
   "metadata": {},
   "outputs": [
    {
     "name": "stdout",
     "output_type": "stream",
     "text": [
      "Train score: 1.000000\n",
      "Test score: 0.681416\n"
     ]
    }
   ],
   "source": [
    "# Decision tree Classifier\n",
    "ada_dtc = AdaBoostClassifier(\n",
    "    dtc(max_depth=8), n_estimators=500,\n",
    "    algorithm=\"SAMME.R\", learning_rate=0.5, random_state=10)\n",
    "ada_dtc.fit(X_reduced, y_train)\n",
    "print('Train score: {0:0.6f}'.format(ada_dtc.score(X_reduced,y_train)))\n",
    "print('Test score: {0:0.6f}'.format(ada_dtc.score(X_test_reduced,y_test)))\n"
   ]
  },
  {
   "cell_type": "code",
   "execution_count": 163,
   "metadata": {},
   "outputs": [
    {
     "name": "stdout",
     "output_type": "stream",
     "text": [
      "Train score: 1.000000\n",
      "Test score: 0.672566\n",
      "Feature Importance:\n"
     ]
    }
   ],
   "source": [
    "# Gradient Boosting Classifier( Decision Tree)\n",
    "from sklearn.ensemble import GradientBoostingClassifier\n",
    "gb_clf = GradientBoostingClassifier(learning_rate = 0.05)\n",
    "gb_clf.fit(X_reduced,y_train)\n",
    "print('Train score: {0:0.6f}'.format(gb_clf.score(X_reduced,y_train)))\n",
    "print('Test score: {0:0.6f}'.format(gb_clf.score(X_test_reduced,y_test)))\n",
    "print('Feature Importance:'.format(gb_clf.feature_importances_))"
   ]
  },
  {
   "cell_type": "code",
   "execution_count": 164,
   "metadata": {
    "scrolled": true
   },
   "outputs": [
    {
     "name": "stdout",
     "output_type": "stream",
     "text": [
      "Train score: 1.000000\n",
      "Test score: 0.637168\n"
     ]
    }
   ],
   "source": [
    "# Random Forest\n",
    "ada_rfc = AdaBoostClassifier(\n",
    "    rfc(max_features= 82, random_state=10), n_estimators=500,\n",
    "    algorithm=\"SAMME.R\", learning_rate=0.5, random_state=10)\n",
    "ada_rfc.fit(X_reduced, y_train)\n",
    "print('Train score: {0:0.6f}'.format(ada_rfc.score(X_reduced,y_train)))\n",
    "print('Test score: {0:0.6f}'.format(ada_rfc.score(X_test_reduced,y_test)))"
   ]
  },
  {
   "cell_type": "markdown",
   "metadata": {},
   "source": [
    "### 3) Original Estimators in PCA ( Including KNN Classifier)\n"
   ]
  },
  {
   "cell_type": "code",
   "execution_count": 191,
   "metadata": {},
   "outputs": [
    {
     "name": "stdout",
     "output_type": "stream",
     "text": [
      "Train score: 0.636095\n",
      "Test score: 0.654867\n"
     ]
    }
   ],
   "source": [
    "# K Nearest Neighbor\n",
    "knn_clf= KNeighborsClassifier(n_neighbors = 5)\n",
    "knn_clf.fit(X_reduced, y_train)\n",
    "print('Train score: {0:0.6f}'.format(knn_clf.score(X_reduced,y_train)))\n",
    "print('Test score: {0:0.6f}'.format(knn_clf.score(X_test_reduced,y_test)))"
   ]
  },
  {
   "cell_type": "code",
   "execution_count": 192,
   "metadata": {},
   "outputs": [
    {
     "name": "stdout",
     "output_type": "stream",
     "text": [
      "Train score: 0.760355\n",
      "Test score: 0.734513\n"
     ]
    }
   ],
   "source": [
    "# Logistic Regression\n",
    "log_clf = LogisticRegression(penalty='l1',random_state=10)\n",
    "log_clf.fit(X_reduced, y_train)\n",
    "print('Train score: {0:0.6f}'.format(log_clf.score(X_reduced,y_train)))\n",
    "print('Test score: {0:0.6f}'.format(log_clf.score(X_test_reduced,y_test)))\n"
   ]
  },
  {
   "cell_type": "code",
   "execution_count": 193,
   "metadata": {},
   "outputs": [
    {
     "name": "stdout",
     "output_type": "stream",
     "text": [
      "Train score: 0.801775\n",
      "Test score: 0.761062\n"
     ]
    }
   ],
   "source": [
    "# Linear SVC\n",
    "svm_clf = LinearSVC(C=0.1,random_state=10)\n",
    "svm_clf.fit(X_reduced, y_train)\n",
    "print('Train score: {0:0.6f}'.format(svm_clf.score(X_reduced,y_train)))\n",
    "print('Test score: {0:0.6f}'.format(svm_clf.score(X_test_reduced,y_test)))\n"
   ]
  },
  {
   "cell_type": "code",
   "execution_count": 194,
   "metadata": {},
   "outputs": [
    {
     "name": "stdout",
     "output_type": "stream",
     "text": [
      "Train score: 0.926036\n",
      "Test score: 0.743363\n"
     ]
    }
   ],
   "source": [
    "#Kernelized SVC\n",
    "rbf_clf= SVC(kernel = 'rbf', C =100, gamma =0.01, random_state=10)\n",
    "rbf_clf.fit(X_reduced, y_train)\n",
    "print('Train score: {0:0.6f}'.format(rbf_clf.score(X_reduced,y_train)))\n",
    "print('Test score: {0:0.6f}'.format(rbf_clf.score(X_test_reduced,y_test)))\n"
   ]
  },
  {
   "cell_type": "code",
   "execution_count": 195,
   "metadata": {},
   "outputs": [
    {
     "name": "stdout",
     "output_type": "stream",
     "text": [
      "Train score: 0.846154\n",
      "Test score: 0.566372\n"
     ]
    }
   ],
   "source": [
    "# Decision Tree Classifier\n",
    "dtc_clf= dtc(max_depth=8, random_state=10)\n",
    "dtc_clf.fit(X_reduced, y_train)\n",
    "print('Train score: {0:0.6f}'.format(dtc_clf.score(X_reduced,y_train)))\n",
    "print('Test score: {0:0.6f}'.format(dtc_clf.score(X_test_reduced,y_test)))\n"
   ]
  },
  {
   "cell_type": "code",
   "execution_count": 196,
   "metadata": {},
   "outputs": [
    {
     "name": "stdout",
     "output_type": "stream",
     "text": [
      "Train score: 0.976331\n",
      "Test score: 0.619469\n"
     ]
    }
   ],
   "source": [
    "# Random Forest( features are 82)\n",
    "rfc_clf = rfc(max_features= 82, random_state=10)\n",
    "rfc_clf.fit(X_reduced, y_train)\n",
    "print('Train score: {0:0.6f}'.format(rfc_clf.score(X_reduced,y_train)))\n",
    "print('Test score: {0:0.6f}'.format(rfc_clf.score(X_test_reduced,y_test)))\n"
   ]
  },
  {
   "cell_type": "markdown",
   "metadata": {},
   "source": [
    "### Hard Voting in PCA ( Original estimators)"
   ]
  },
  {
   "cell_type": "code",
   "execution_count": 198,
   "metadata": {
    "scrolled": false
   },
   "outputs": [
    {
     "name": "stdout",
     "output_type": "stream",
     "text": [
      "Train score: 0.819527\n",
      "Test score: 0.716814\n"
     ]
    },
    {
     "name": "stderr",
     "output_type": "stream",
     "text": [
      "c:\\users\\lenovo e560\\appdata\\local\\programs\\python\\python36\\lib\\site-packages\\sklearn\\preprocessing\\label.py:151: DeprecationWarning: The truth value of an empty array is ambiguous. Returning False, but in future this will result in an error. Use `array.size > 0` to check that an array is not empty.\n",
      "  if diff:\n",
      "c:\\users\\lenovo e560\\appdata\\local\\programs\\python\\python36\\lib\\site-packages\\sklearn\\preprocessing\\label.py:151: DeprecationWarning: The truth value of an empty array is ambiguous. Returning False, but in future this will result in an error. Use `array.size > 0` to check that an array is not empty.\n",
      "  if diff:\n"
     ]
    }
   ],
   "source": [
    "voting_clf_reduced = VotingClassifier(estimators=[('knn',knn_clf),('lr', log_clf), ('svc', svm_clf),\n",
    "                                          ('rbf',rbf_clf),('dtc',dtc_clf),('rfc', rfc_clf)], voting='hard')\n",
    "voting_clf_reduced.fit(X_reduced, y_train)\n",
    "print('Train score: {0:0.6f}'.format(voting_clf_reduced.score(X_reduced,y_train)))\n",
    "print('Test score: {0:0.6f}'.format(voting_clf_reduced.score(X_test_reduced,y_test)))"
   ]
  },
  {
   "cell_type": "markdown",
   "metadata": {},
   "source": [
    "# Part III: Evaluation Strategy ( Recall and Micro-average)\n",
    "\n",
    "- The purpose of this section is to recommend treatment to people who really have symptoms of Cardiac Arrhythmia. In another word, we do not want to miss people that are predicted to be normal yet actually have symptoms. Therefore, in this situation, I propose using Recall as the classification metric and Micro-Average to address imbalanced data.\n",
    "\n",
    "- In this section, I have plotted out pie chart to prove an imbalanced data, where the majority part is normal cases for Cardiac Arrhythmia. Then a binary code is assigned to normal case as 1 versus 0 to the rest as having symptoms. From there I preprocess  binary imbalanced data with the same parameters. All the estimators( with the best chosen parameters) will then train and test new data to boil down to confusion matrix and a classification report.  "
   ]
  },
  {
   "cell_type": "code",
   "execution_count": 18,
   "metadata": {},
   "outputs": [
    {
     "data": {
      "application/javascript": [
       "/* Put everything inside the global mpl namespace */\n",
       "window.mpl = {};\n",
       "\n",
       "\n",
       "mpl.get_websocket_type = function() {\n",
       "    if (typeof(WebSocket) !== 'undefined') {\n",
       "        return WebSocket;\n",
       "    } else if (typeof(MozWebSocket) !== 'undefined') {\n",
       "        return MozWebSocket;\n",
       "    } else {\n",
       "        alert('Your browser does not have WebSocket support.' +\n",
       "              'Please try Chrome, Safari or Firefox ≥ 6. ' +\n",
       "              'Firefox 4 and 5 are also supported but you ' +\n",
       "              'have to enable WebSockets in about:config.');\n",
       "    };\n",
       "}\n",
       "\n",
       "mpl.figure = function(figure_id, websocket, ondownload, parent_element) {\n",
       "    this.id = figure_id;\n",
       "\n",
       "    this.ws = websocket;\n",
       "\n",
       "    this.supports_binary = (this.ws.binaryType != undefined);\n",
       "\n",
       "    if (!this.supports_binary) {\n",
       "        var warnings = document.getElementById(\"mpl-warnings\");\n",
       "        if (warnings) {\n",
       "            warnings.style.display = 'block';\n",
       "            warnings.textContent = (\n",
       "                \"This browser does not support binary websocket messages. \" +\n",
       "                    \"Performance may be slow.\");\n",
       "        }\n",
       "    }\n",
       "\n",
       "    this.imageObj = new Image();\n",
       "\n",
       "    this.context = undefined;\n",
       "    this.message = undefined;\n",
       "    this.canvas = undefined;\n",
       "    this.rubberband_canvas = undefined;\n",
       "    this.rubberband_context = undefined;\n",
       "    this.format_dropdown = undefined;\n",
       "\n",
       "    this.image_mode = 'full';\n",
       "\n",
       "    this.root = $('<div/>');\n",
       "    this._root_extra_style(this.root)\n",
       "    this.root.attr('style', 'display: inline-block');\n",
       "\n",
       "    $(parent_element).append(this.root);\n",
       "\n",
       "    this._init_header(this);\n",
       "    this._init_canvas(this);\n",
       "    this._init_toolbar(this);\n",
       "\n",
       "    var fig = this;\n",
       "\n",
       "    this.waiting = false;\n",
       "\n",
       "    this.ws.onopen =  function () {\n",
       "            fig.send_message(\"supports_binary\", {value: fig.supports_binary});\n",
       "            fig.send_message(\"send_image_mode\", {});\n",
       "            if (mpl.ratio != 1) {\n",
       "                fig.send_message(\"set_dpi_ratio\", {'dpi_ratio': mpl.ratio});\n",
       "            }\n",
       "            fig.send_message(\"refresh\", {});\n",
       "        }\n",
       "\n",
       "    this.imageObj.onload = function() {\n",
       "            if (fig.image_mode == 'full') {\n",
       "                // Full images could contain transparency (where diff images\n",
       "                // almost always do), so we need to clear the canvas so that\n",
       "                // there is no ghosting.\n",
       "                fig.context.clearRect(0, 0, fig.canvas.width, fig.canvas.height);\n",
       "            }\n",
       "            fig.context.drawImage(fig.imageObj, 0, 0);\n",
       "        };\n",
       "\n",
       "    this.imageObj.onunload = function() {\n",
       "        fig.ws.close();\n",
       "    }\n",
       "\n",
       "    this.ws.onmessage = this._make_on_message_function(this);\n",
       "\n",
       "    this.ondownload = ondownload;\n",
       "}\n",
       "\n",
       "mpl.figure.prototype._init_header = function() {\n",
       "    var titlebar = $(\n",
       "        '<div class=\"ui-dialog-titlebar ui-widget-header ui-corner-all ' +\n",
       "        'ui-helper-clearfix\"/>');\n",
       "    var titletext = $(\n",
       "        '<div class=\"ui-dialog-title\" style=\"width: 100%; ' +\n",
       "        'text-align: center; padding: 3px;\"/>');\n",
       "    titlebar.append(titletext)\n",
       "    this.root.append(titlebar);\n",
       "    this.header = titletext[0];\n",
       "}\n",
       "\n",
       "\n",
       "\n",
       "mpl.figure.prototype._canvas_extra_style = function(canvas_div) {\n",
       "\n",
       "}\n",
       "\n",
       "\n",
       "mpl.figure.prototype._root_extra_style = function(canvas_div) {\n",
       "\n",
       "}\n",
       "\n",
       "mpl.figure.prototype._init_canvas = function() {\n",
       "    var fig = this;\n",
       "\n",
       "    var canvas_div = $('<div/>');\n",
       "\n",
       "    canvas_div.attr('style', 'position: relative; clear: both; outline: 0');\n",
       "\n",
       "    function canvas_keyboard_event(event) {\n",
       "        return fig.key_event(event, event['data']);\n",
       "    }\n",
       "\n",
       "    canvas_div.keydown('key_press', canvas_keyboard_event);\n",
       "    canvas_div.keyup('key_release', canvas_keyboard_event);\n",
       "    this.canvas_div = canvas_div\n",
       "    this._canvas_extra_style(canvas_div)\n",
       "    this.root.append(canvas_div);\n",
       "\n",
       "    var canvas = $('<canvas/>');\n",
       "    canvas.addClass('mpl-canvas');\n",
       "    canvas.attr('style', \"left: 0; top: 0; z-index: 0; outline: 0\")\n",
       "\n",
       "    this.canvas = canvas[0];\n",
       "    this.context = canvas[0].getContext(\"2d\");\n",
       "\n",
       "    var backingStore = this.context.backingStorePixelRatio ||\n",
       "\tthis.context.webkitBackingStorePixelRatio ||\n",
       "\tthis.context.mozBackingStorePixelRatio ||\n",
       "\tthis.context.msBackingStorePixelRatio ||\n",
       "\tthis.context.oBackingStorePixelRatio ||\n",
       "\tthis.context.backingStorePixelRatio || 1;\n",
       "\n",
       "    mpl.ratio = (window.devicePixelRatio || 1) / backingStore;\n",
       "\n",
       "    var rubberband = $('<canvas/>');\n",
       "    rubberband.attr('style', \"position: absolute; left: 0; top: 0; z-index: 1;\")\n",
       "\n",
       "    var pass_mouse_events = true;\n",
       "\n",
       "    canvas_div.resizable({\n",
       "        start: function(event, ui) {\n",
       "            pass_mouse_events = false;\n",
       "        },\n",
       "        resize: function(event, ui) {\n",
       "            fig.request_resize(ui.size.width, ui.size.height);\n",
       "        },\n",
       "        stop: function(event, ui) {\n",
       "            pass_mouse_events = true;\n",
       "            fig.request_resize(ui.size.width, ui.size.height);\n",
       "        },\n",
       "    });\n",
       "\n",
       "    function mouse_event_fn(event) {\n",
       "        if (pass_mouse_events)\n",
       "            return fig.mouse_event(event, event['data']);\n",
       "    }\n",
       "\n",
       "    rubberband.mousedown('button_press', mouse_event_fn);\n",
       "    rubberband.mouseup('button_release', mouse_event_fn);\n",
       "    // Throttle sequential mouse events to 1 every 20ms.\n",
       "    rubberband.mousemove('motion_notify', mouse_event_fn);\n",
       "\n",
       "    rubberband.mouseenter('figure_enter', mouse_event_fn);\n",
       "    rubberband.mouseleave('figure_leave', mouse_event_fn);\n",
       "\n",
       "    canvas_div.on(\"wheel\", function (event) {\n",
       "        event = event.originalEvent;\n",
       "        event['data'] = 'scroll'\n",
       "        if (event.deltaY < 0) {\n",
       "            event.step = 1;\n",
       "        } else {\n",
       "            event.step = -1;\n",
       "        }\n",
       "        mouse_event_fn(event);\n",
       "    });\n",
       "\n",
       "    canvas_div.append(canvas);\n",
       "    canvas_div.append(rubberband);\n",
       "\n",
       "    this.rubberband = rubberband;\n",
       "    this.rubberband_canvas = rubberband[0];\n",
       "    this.rubberband_context = rubberband[0].getContext(\"2d\");\n",
       "    this.rubberband_context.strokeStyle = \"#000000\";\n",
       "\n",
       "    this._resize_canvas = function(width, height) {\n",
       "        // Keep the size of the canvas, canvas container, and rubber band\n",
       "        // canvas in synch.\n",
       "        canvas_div.css('width', width)\n",
       "        canvas_div.css('height', height)\n",
       "\n",
       "        canvas.attr('width', width * mpl.ratio);\n",
       "        canvas.attr('height', height * mpl.ratio);\n",
       "        canvas.attr('style', 'width: ' + width + 'px; height: ' + height + 'px;');\n",
       "\n",
       "        rubberband.attr('width', width);\n",
       "        rubberband.attr('height', height);\n",
       "    }\n",
       "\n",
       "    // Set the figure to an initial 600x600px, this will subsequently be updated\n",
       "    // upon first draw.\n",
       "    this._resize_canvas(600, 600);\n",
       "\n",
       "    // Disable right mouse context menu.\n",
       "    $(this.rubberband_canvas).bind(\"contextmenu\",function(e){\n",
       "        return false;\n",
       "    });\n",
       "\n",
       "    function set_focus () {\n",
       "        canvas.focus();\n",
       "        canvas_div.focus();\n",
       "    }\n",
       "\n",
       "    window.setTimeout(set_focus, 100);\n",
       "}\n",
       "\n",
       "mpl.figure.prototype._init_toolbar = function() {\n",
       "    var fig = this;\n",
       "\n",
       "    var nav_element = $('<div/>')\n",
       "    nav_element.attr('style', 'width: 100%');\n",
       "    this.root.append(nav_element);\n",
       "\n",
       "    // Define a callback function for later on.\n",
       "    function toolbar_event(event) {\n",
       "        return fig.toolbar_button_onclick(event['data']);\n",
       "    }\n",
       "    function toolbar_mouse_event(event) {\n",
       "        return fig.toolbar_button_onmouseover(event['data']);\n",
       "    }\n",
       "\n",
       "    for(var toolbar_ind in mpl.toolbar_items) {\n",
       "        var name = mpl.toolbar_items[toolbar_ind][0];\n",
       "        var tooltip = mpl.toolbar_items[toolbar_ind][1];\n",
       "        var image = mpl.toolbar_items[toolbar_ind][2];\n",
       "        var method_name = mpl.toolbar_items[toolbar_ind][3];\n",
       "\n",
       "        if (!name) {\n",
       "            // put a spacer in here.\n",
       "            continue;\n",
       "        }\n",
       "        var button = $('<button/>');\n",
       "        button.addClass('ui-button ui-widget ui-state-default ui-corner-all ' +\n",
       "                        'ui-button-icon-only');\n",
       "        button.attr('role', 'button');\n",
       "        button.attr('aria-disabled', 'false');\n",
       "        button.click(method_name, toolbar_event);\n",
       "        button.mouseover(tooltip, toolbar_mouse_event);\n",
       "\n",
       "        var icon_img = $('<span/>');\n",
       "        icon_img.addClass('ui-button-icon-primary ui-icon');\n",
       "        icon_img.addClass(image);\n",
       "        icon_img.addClass('ui-corner-all');\n",
       "\n",
       "        var tooltip_span = $('<span/>');\n",
       "        tooltip_span.addClass('ui-button-text');\n",
       "        tooltip_span.html(tooltip);\n",
       "\n",
       "        button.append(icon_img);\n",
       "        button.append(tooltip_span);\n",
       "\n",
       "        nav_element.append(button);\n",
       "    }\n",
       "\n",
       "    var fmt_picker_span = $('<span/>');\n",
       "\n",
       "    var fmt_picker = $('<select/>');\n",
       "    fmt_picker.addClass('mpl-toolbar-option ui-widget ui-widget-content');\n",
       "    fmt_picker_span.append(fmt_picker);\n",
       "    nav_element.append(fmt_picker_span);\n",
       "    this.format_dropdown = fmt_picker[0];\n",
       "\n",
       "    for (var ind in mpl.extensions) {\n",
       "        var fmt = mpl.extensions[ind];\n",
       "        var option = $(\n",
       "            '<option/>', {selected: fmt === mpl.default_extension}).html(fmt);\n",
       "        fmt_picker.append(option)\n",
       "    }\n",
       "\n",
       "    // Add hover states to the ui-buttons\n",
       "    $( \".ui-button\" ).hover(\n",
       "        function() { $(this).addClass(\"ui-state-hover\");},\n",
       "        function() { $(this).removeClass(\"ui-state-hover\");}\n",
       "    );\n",
       "\n",
       "    var status_bar = $('<span class=\"mpl-message\"/>');\n",
       "    nav_element.append(status_bar);\n",
       "    this.message = status_bar[0];\n",
       "}\n",
       "\n",
       "mpl.figure.prototype.request_resize = function(x_pixels, y_pixels) {\n",
       "    // Request matplotlib to resize the figure. Matplotlib will then trigger a resize in the client,\n",
       "    // which will in turn request a refresh of the image.\n",
       "    this.send_message('resize', {'width': x_pixels, 'height': y_pixels});\n",
       "}\n",
       "\n",
       "mpl.figure.prototype.send_message = function(type, properties) {\n",
       "    properties['type'] = type;\n",
       "    properties['figure_id'] = this.id;\n",
       "    this.ws.send(JSON.stringify(properties));\n",
       "}\n",
       "\n",
       "mpl.figure.prototype.send_draw_message = function() {\n",
       "    if (!this.waiting) {\n",
       "        this.waiting = true;\n",
       "        this.ws.send(JSON.stringify({type: \"draw\", figure_id: this.id}));\n",
       "    }\n",
       "}\n",
       "\n",
       "\n",
       "mpl.figure.prototype.handle_save = function(fig, msg) {\n",
       "    var format_dropdown = fig.format_dropdown;\n",
       "    var format = format_dropdown.options[format_dropdown.selectedIndex].value;\n",
       "    fig.ondownload(fig, format);\n",
       "}\n",
       "\n",
       "\n",
       "mpl.figure.prototype.handle_resize = function(fig, msg) {\n",
       "    var size = msg['size'];\n",
       "    if (size[0] != fig.canvas.width || size[1] != fig.canvas.height) {\n",
       "        fig._resize_canvas(size[0], size[1]);\n",
       "        fig.send_message(\"refresh\", {});\n",
       "    };\n",
       "}\n",
       "\n",
       "mpl.figure.prototype.handle_rubberband = function(fig, msg) {\n",
       "    var x0 = msg['x0'] / mpl.ratio;\n",
       "    var y0 = (fig.canvas.height - msg['y0']) / mpl.ratio;\n",
       "    var x1 = msg['x1'] / mpl.ratio;\n",
       "    var y1 = (fig.canvas.height - msg['y1']) / mpl.ratio;\n",
       "    x0 = Math.floor(x0) + 0.5;\n",
       "    y0 = Math.floor(y0) + 0.5;\n",
       "    x1 = Math.floor(x1) + 0.5;\n",
       "    y1 = Math.floor(y1) + 0.5;\n",
       "    var min_x = Math.min(x0, x1);\n",
       "    var min_y = Math.min(y0, y1);\n",
       "    var width = Math.abs(x1 - x0);\n",
       "    var height = Math.abs(y1 - y0);\n",
       "\n",
       "    fig.rubberband_context.clearRect(\n",
       "        0, 0, fig.canvas.width, fig.canvas.height);\n",
       "\n",
       "    fig.rubberband_context.strokeRect(min_x, min_y, width, height);\n",
       "}\n",
       "\n",
       "mpl.figure.prototype.handle_figure_label = function(fig, msg) {\n",
       "    // Updates the figure title.\n",
       "    fig.header.textContent = msg['label'];\n",
       "}\n",
       "\n",
       "mpl.figure.prototype.handle_cursor = function(fig, msg) {\n",
       "    var cursor = msg['cursor'];\n",
       "    switch(cursor)\n",
       "    {\n",
       "    case 0:\n",
       "        cursor = 'pointer';\n",
       "        break;\n",
       "    case 1:\n",
       "        cursor = 'default';\n",
       "        break;\n",
       "    case 2:\n",
       "        cursor = 'crosshair';\n",
       "        break;\n",
       "    case 3:\n",
       "        cursor = 'move';\n",
       "        break;\n",
       "    }\n",
       "    fig.rubberband_canvas.style.cursor = cursor;\n",
       "}\n",
       "\n",
       "mpl.figure.prototype.handle_message = function(fig, msg) {\n",
       "    fig.message.textContent = msg['message'];\n",
       "}\n",
       "\n",
       "mpl.figure.prototype.handle_draw = function(fig, msg) {\n",
       "    // Request the server to send over a new figure.\n",
       "    fig.send_draw_message();\n",
       "}\n",
       "\n",
       "mpl.figure.prototype.handle_image_mode = function(fig, msg) {\n",
       "    fig.image_mode = msg['mode'];\n",
       "}\n",
       "\n",
       "mpl.figure.prototype.updated_canvas_event = function() {\n",
       "    // Called whenever the canvas gets updated.\n",
       "    this.send_message(\"ack\", {});\n",
       "}\n",
       "\n",
       "// A function to construct a web socket function for onmessage handling.\n",
       "// Called in the figure constructor.\n",
       "mpl.figure.prototype._make_on_message_function = function(fig) {\n",
       "    return function socket_on_message(evt) {\n",
       "        if (evt.data instanceof Blob) {\n",
       "            /* FIXME: We get \"Resource interpreted as Image but\n",
       "             * transferred with MIME type text/plain:\" errors on\n",
       "             * Chrome.  But how to set the MIME type?  It doesn't seem\n",
       "             * to be part of the websocket stream */\n",
       "            evt.data.type = \"image/png\";\n",
       "\n",
       "            /* Free the memory for the previous frames */\n",
       "            if (fig.imageObj.src) {\n",
       "                (window.URL || window.webkitURL).revokeObjectURL(\n",
       "                    fig.imageObj.src);\n",
       "            }\n",
       "\n",
       "            fig.imageObj.src = (window.URL || window.webkitURL).createObjectURL(\n",
       "                evt.data);\n",
       "            fig.updated_canvas_event();\n",
       "            fig.waiting = false;\n",
       "            return;\n",
       "        }\n",
       "        else if (typeof evt.data === 'string' && evt.data.slice(0, 21) == \"data:image/png;base64\") {\n",
       "            fig.imageObj.src = evt.data;\n",
       "            fig.updated_canvas_event();\n",
       "            fig.waiting = false;\n",
       "            return;\n",
       "        }\n",
       "\n",
       "        var msg = JSON.parse(evt.data);\n",
       "        var msg_type = msg['type'];\n",
       "\n",
       "        // Call the  \"handle_{type}\" callback, which takes\n",
       "        // the figure and JSON message as its only arguments.\n",
       "        try {\n",
       "            var callback = fig[\"handle_\" + msg_type];\n",
       "        } catch (e) {\n",
       "            console.log(\"No handler for the '\" + msg_type + \"' message type: \", msg);\n",
       "            return;\n",
       "        }\n",
       "\n",
       "        if (callback) {\n",
       "            try {\n",
       "                // console.log(\"Handling '\" + msg_type + \"' message: \", msg);\n",
       "                callback(fig, msg);\n",
       "            } catch (e) {\n",
       "                console.log(\"Exception inside the 'handler_\" + msg_type + \"' callback:\", e, e.stack, msg);\n",
       "            }\n",
       "        }\n",
       "    };\n",
       "}\n",
       "\n",
       "// from http://stackoverflow.com/questions/1114465/getting-mouse-location-in-canvas\n",
       "mpl.findpos = function(e) {\n",
       "    //this section is from http://www.quirksmode.org/js/events_properties.html\n",
       "    var targ;\n",
       "    if (!e)\n",
       "        e = window.event;\n",
       "    if (e.target)\n",
       "        targ = e.target;\n",
       "    else if (e.srcElement)\n",
       "        targ = e.srcElement;\n",
       "    if (targ.nodeType == 3) // defeat Safari bug\n",
       "        targ = targ.parentNode;\n",
       "\n",
       "    // jQuery normalizes the pageX and pageY\n",
       "    // pageX,Y are the mouse positions relative to the document\n",
       "    // offset() returns the position of the element relative to the document\n",
       "    var x = e.pageX - $(targ).offset().left;\n",
       "    var y = e.pageY - $(targ).offset().top;\n",
       "\n",
       "    return {\"x\": x, \"y\": y};\n",
       "};\n",
       "\n",
       "/*\n",
       " * return a copy of an object with only non-object keys\n",
       " * we need this to avoid circular references\n",
       " * http://stackoverflow.com/a/24161582/3208463\n",
       " */\n",
       "function simpleKeys (original) {\n",
       "  return Object.keys(original).reduce(function (obj, key) {\n",
       "    if (typeof original[key] !== 'object')\n",
       "        obj[key] = original[key]\n",
       "    return obj;\n",
       "  }, {});\n",
       "}\n",
       "\n",
       "mpl.figure.prototype.mouse_event = function(event, name) {\n",
       "    var canvas_pos = mpl.findpos(event)\n",
       "\n",
       "    if (name === 'button_press')\n",
       "    {\n",
       "        this.canvas.focus();\n",
       "        this.canvas_div.focus();\n",
       "    }\n",
       "\n",
       "    var x = canvas_pos.x * mpl.ratio;\n",
       "    var y = canvas_pos.y * mpl.ratio;\n",
       "\n",
       "    this.send_message(name, {x: x, y: y, button: event.button,\n",
       "                             step: event.step,\n",
       "                             guiEvent: simpleKeys(event)});\n",
       "\n",
       "    /* This prevents the web browser from automatically changing to\n",
       "     * the text insertion cursor when the button is pressed.  We want\n",
       "     * to control all of the cursor setting manually through the\n",
       "     * 'cursor' event from matplotlib */\n",
       "    event.preventDefault();\n",
       "    return false;\n",
       "}\n",
       "\n",
       "mpl.figure.prototype._key_event_extra = function(event, name) {\n",
       "    // Handle any extra behaviour associated with a key event\n",
       "}\n",
       "\n",
       "mpl.figure.prototype.key_event = function(event, name) {\n",
       "\n",
       "    // Prevent repeat events\n",
       "    if (name == 'key_press')\n",
       "    {\n",
       "        if (event.which === this._key)\n",
       "            return;\n",
       "        else\n",
       "            this._key = event.which;\n",
       "    }\n",
       "    if (name == 'key_release')\n",
       "        this._key = null;\n",
       "\n",
       "    var value = '';\n",
       "    if (event.ctrlKey && event.which != 17)\n",
       "        value += \"ctrl+\";\n",
       "    if (event.altKey && event.which != 18)\n",
       "        value += \"alt+\";\n",
       "    if (event.shiftKey && event.which != 16)\n",
       "        value += \"shift+\";\n",
       "\n",
       "    value += 'k';\n",
       "    value += event.which.toString();\n",
       "\n",
       "    this._key_event_extra(event, name);\n",
       "\n",
       "    this.send_message(name, {key: value,\n",
       "                             guiEvent: simpleKeys(event)});\n",
       "    return false;\n",
       "}\n",
       "\n",
       "mpl.figure.prototype.toolbar_button_onclick = function(name) {\n",
       "    if (name == 'download') {\n",
       "        this.handle_save(this, null);\n",
       "    } else {\n",
       "        this.send_message(\"toolbar_button\", {name: name});\n",
       "    }\n",
       "};\n",
       "\n",
       "mpl.figure.prototype.toolbar_button_onmouseover = function(tooltip) {\n",
       "    this.message.textContent = tooltip;\n",
       "};\n",
       "mpl.toolbar_items = [[\"Home\", \"Reset original view\", \"fa fa-home icon-home\", \"home\"], [\"Back\", \"Back to  previous view\", \"fa fa-arrow-left icon-arrow-left\", \"back\"], [\"Forward\", \"Forward to next view\", \"fa fa-arrow-right icon-arrow-right\", \"forward\"], [\"\", \"\", \"\", \"\"], [\"Pan\", \"Pan axes with left mouse, zoom with right\", \"fa fa-arrows icon-move\", \"pan\"], [\"Zoom\", \"Zoom to rectangle\", \"fa fa-square-o icon-check-empty\", \"zoom\"], [\"\", \"\", \"\", \"\"], [\"Download\", \"Download plot\", \"fa fa-floppy-o icon-save\", \"download\"]];\n",
       "\n",
       "mpl.extensions = [\"eps\", \"pdf\", \"png\", \"ps\", \"raw\", \"svg\"];\n",
       "\n",
       "mpl.default_extension = \"png\";var comm_websocket_adapter = function(comm) {\n",
       "    // Create a \"websocket\"-like object which calls the given IPython comm\n",
       "    // object with the appropriate methods. Currently this is a non binary\n",
       "    // socket, so there is still some room for performance tuning.\n",
       "    var ws = {};\n",
       "\n",
       "    ws.close = function() {\n",
       "        comm.close()\n",
       "    };\n",
       "    ws.send = function(m) {\n",
       "        //console.log('sending', m);\n",
       "        comm.send(m);\n",
       "    };\n",
       "    // Register the callback with on_msg.\n",
       "    comm.on_msg(function(msg) {\n",
       "        //console.log('receiving', msg['content']['data'], msg);\n",
       "        // Pass the mpl event to the overriden (by mpl) onmessage function.\n",
       "        ws.onmessage(msg['content']['data'])\n",
       "    });\n",
       "    return ws;\n",
       "}\n",
       "\n",
       "mpl.mpl_figure_comm = function(comm, msg) {\n",
       "    // This is the function which gets called when the mpl process\n",
       "    // starts-up an IPython Comm through the \"matplotlib\" channel.\n",
       "\n",
       "    var id = msg.content.data.id;\n",
       "    // Get hold of the div created by the display call when the Comm\n",
       "    // socket was opened in Python.\n",
       "    var element = $(\"#\" + id);\n",
       "    var ws_proxy = comm_websocket_adapter(comm)\n",
       "\n",
       "    function ondownload(figure, format) {\n",
       "        window.open(figure.imageObj.src);\n",
       "    }\n",
       "\n",
       "    var fig = new mpl.figure(id, ws_proxy,\n",
       "                           ondownload,\n",
       "                           element.get(0));\n",
       "\n",
       "    // Call onopen now - mpl needs it, as it is assuming we've passed it a real\n",
       "    // web socket which is closed, not our websocket->open comm proxy.\n",
       "    ws_proxy.onopen();\n",
       "\n",
       "    fig.parent_element = element.get(0);\n",
       "    fig.cell_info = mpl.find_output_cell(\"<div id='\" + id + \"'></div>\");\n",
       "    if (!fig.cell_info) {\n",
       "        console.error(\"Failed to find cell for figure\", id, fig);\n",
       "        return;\n",
       "    }\n",
       "\n",
       "    var output_index = fig.cell_info[2]\n",
       "    var cell = fig.cell_info[0];\n",
       "\n",
       "};\n",
       "\n",
       "mpl.figure.prototype.handle_close = function(fig, msg) {\n",
       "    var width = fig.canvas.width/mpl.ratio\n",
       "    fig.root.unbind('remove')\n",
       "\n",
       "    // Update the output cell to use the data from the current canvas.\n",
       "    fig.push_to_output();\n",
       "    var dataURL = fig.canvas.toDataURL();\n",
       "    // Re-enable the keyboard manager in IPython - without this line, in FF,\n",
       "    // the notebook keyboard shortcuts fail.\n",
       "    IPython.keyboard_manager.enable()\n",
       "    $(fig.parent_element).html('<img src=\"' + dataURL + '\" width=\"' + width + '\">');\n",
       "    fig.close_ws(fig, msg);\n",
       "}\n",
       "\n",
       "mpl.figure.prototype.close_ws = function(fig, msg){\n",
       "    fig.send_message('closing', msg);\n",
       "    // fig.ws.close()\n",
       "}\n",
       "\n",
       "mpl.figure.prototype.push_to_output = function(remove_interactive) {\n",
       "    // Turn the data on the canvas into data in the output cell.\n",
       "    var width = this.canvas.width/mpl.ratio\n",
       "    var dataURL = this.canvas.toDataURL();\n",
       "    this.cell_info[1]['text/html'] = '<img src=\"' + dataURL + '\" width=\"' + width + '\">';\n",
       "}\n",
       "\n",
       "mpl.figure.prototype.updated_canvas_event = function() {\n",
       "    // Tell IPython that the notebook contents must change.\n",
       "    IPython.notebook.set_dirty(true);\n",
       "    this.send_message(\"ack\", {});\n",
       "    var fig = this;\n",
       "    // Wait a second, then push the new image to the DOM so\n",
       "    // that it is saved nicely (might be nice to debounce this).\n",
       "    setTimeout(function () { fig.push_to_output() }, 1000);\n",
       "}\n",
       "\n",
       "mpl.figure.prototype._init_toolbar = function() {\n",
       "    var fig = this;\n",
       "\n",
       "    var nav_element = $('<div/>')\n",
       "    nav_element.attr('style', 'width: 100%');\n",
       "    this.root.append(nav_element);\n",
       "\n",
       "    // Define a callback function for later on.\n",
       "    function toolbar_event(event) {\n",
       "        return fig.toolbar_button_onclick(event['data']);\n",
       "    }\n",
       "    function toolbar_mouse_event(event) {\n",
       "        return fig.toolbar_button_onmouseover(event['data']);\n",
       "    }\n",
       "\n",
       "    for(var toolbar_ind in mpl.toolbar_items){\n",
       "        var name = mpl.toolbar_items[toolbar_ind][0];\n",
       "        var tooltip = mpl.toolbar_items[toolbar_ind][1];\n",
       "        var image = mpl.toolbar_items[toolbar_ind][2];\n",
       "        var method_name = mpl.toolbar_items[toolbar_ind][3];\n",
       "\n",
       "        if (!name) { continue; };\n",
       "\n",
       "        var button = $('<button class=\"btn btn-default\" href=\"#\" title=\"' + name + '\"><i class=\"fa ' + image + ' fa-lg\"></i></button>');\n",
       "        button.click(method_name, toolbar_event);\n",
       "        button.mouseover(tooltip, toolbar_mouse_event);\n",
       "        nav_element.append(button);\n",
       "    }\n",
       "\n",
       "    // Add the status bar.\n",
       "    var status_bar = $('<span class=\"mpl-message\" style=\"text-align:right; float: right;\"/>');\n",
       "    nav_element.append(status_bar);\n",
       "    this.message = status_bar[0];\n",
       "\n",
       "    // Add the close button to the window.\n",
       "    var buttongrp = $('<div class=\"btn-group inline pull-right\"></div>');\n",
       "    var button = $('<button class=\"btn btn-mini btn-primary\" href=\"#\" title=\"Stop Interaction\"><i class=\"fa fa-power-off icon-remove icon-large\"></i></button>');\n",
       "    button.click(function (evt) { fig.handle_close(fig, {}); } );\n",
       "    button.mouseover('Stop Interaction', toolbar_mouse_event);\n",
       "    buttongrp.append(button);\n",
       "    var titlebar = this.root.find($('.ui-dialog-titlebar'));\n",
       "    titlebar.prepend(buttongrp);\n",
       "}\n",
       "\n",
       "mpl.figure.prototype._root_extra_style = function(el){\n",
       "    var fig = this\n",
       "    el.on(\"remove\", function(){\n",
       "\tfig.close_ws(fig, {});\n",
       "    });\n",
       "}\n",
       "\n",
       "mpl.figure.prototype._canvas_extra_style = function(el){\n",
       "    // this is important to make the div 'focusable\n",
       "    el.attr('tabindex', 0)\n",
       "    // reach out to IPython and tell the keyboard manager to turn it's self\n",
       "    // off when our div gets focus\n",
       "\n",
       "    // location in version 3\n",
       "    if (IPython.notebook.keyboard_manager) {\n",
       "        IPython.notebook.keyboard_manager.register_events(el);\n",
       "    }\n",
       "    else {\n",
       "        // location in version 2\n",
       "        IPython.keyboard_manager.register_events(el);\n",
       "    }\n",
       "\n",
       "}\n",
       "\n",
       "mpl.figure.prototype._key_event_extra = function(event, name) {\n",
       "    var manager = IPython.notebook.keyboard_manager;\n",
       "    if (!manager)\n",
       "        manager = IPython.keyboard_manager;\n",
       "\n",
       "    // Check for shift+enter\n",
       "    if (event.shiftKey && event.which == 13) {\n",
       "        this.canvas_div.blur();\n",
       "        event.shiftKey = false;\n",
       "        // Send a \"J\" for go to next cell\n",
       "        event.which = 74;\n",
       "        event.keyCode = 74;\n",
       "        manager.command_mode();\n",
       "        manager.handle_keydown(event);\n",
       "    }\n",
       "}\n",
       "\n",
       "mpl.figure.prototype.handle_save = function(fig, msg) {\n",
       "    fig.ondownload(fig, null);\n",
       "}\n",
       "\n",
       "\n",
       "mpl.find_output_cell = function(html_output) {\n",
       "    // Return the cell and output element which can be found *uniquely* in the notebook.\n",
       "    // Note - this is a bit hacky, but it is done because the \"notebook_saving.Notebook\"\n",
       "    // IPython event is triggered only after the cells have been serialised, which for\n",
       "    // our purposes (turning an active figure into a static one), is too late.\n",
       "    var cells = IPython.notebook.get_cells();\n",
       "    var ncells = cells.length;\n",
       "    for (var i=0; i<ncells; i++) {\n",
       "        var cell = cells[i];\n",
       "        if (cell.cell_type === 'code'){\n",
       "            for (var j=0; j<cell.output_area.outputs.length; j++) {\n",
       "                var data = cell.output_area.outputs[j];\n",
       "                if (data.data) {\n",
       "                    // IPython >= 3 moved mimebundle to data attribute of output\n",
       "                    data = data.data;\n",
       "                }\n",
       "                if (data['text/html'] == html_output) {\n",
       "                    return [cell, data, j];\n",
       "                }\n",
       "            }\n",
       "        }\n",
       "    }\n",
       "}\n",
       "\n",
       "// Register the function which deals with the matplotlib target/channel.\n",
       "// The kernel may be null if the page has been refreshed.\n",
       "if (IPython.notebook.kernel != null) {\n",
       "    IPython.notebook.kernel.comm_manager.register_target('matplotlib', mpl.mpl_figure_comm);\n",
       "}\n"
      ],
      "text/plain": [
       "<IPython.core.display.Javascript object>"
      ]
     },
     "metadata": {},
     "output_type": "display_data"
    },
    {
     "data": {
      "text/html": [
       "<img src=\"data:image/png;base64,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\" width=\"640\">"
      ],
      "text/plain": [
       "<IPython.core.display.HTML object>"
      ]
     },
     "metadata": {},
     "output_type": "display_data"
    },
    {
     "data": {
      "text/plain": [
       "([<matplotlib.patches.Wedge at 0x258fdb4f320>,\n",
       "  <matplotlib.patches.Wedge at 0x258fdb4fcf8>,\n",
       "  <matplotlib.patches.Wedge at 0x258fdb52748>,\n",
       "  <matplotlib.patches.Wedge at 0x258fdb43160>,\n",
       "  <matplotlib.patches.Wedge at 0x258fdb43b70>,\n",
       "  <matplotlib.patches.Wedge at 0x258fdb385c0>,\n",
       "  <matplotlib.patches.Wedge at 0x258fdb38fd0>,\n",
       "  <matplotlib.patches.Wedge at 0x258fdb2ca20>,\n",
       "  <matplotlib.patches.Wedge at 0x258fdbde470>,\n",
       "  <matplotlib.patches.Wedge at 0x258fdbdee80>,\n",
       "  <matplotlib.patches.Wedge at 0x258fdb9beb8>,\n",
       "  <matplotlib.patches.Wedge at 0x258fdbca2e8>,\n",
       "  <matplotlib.patches.Wedge at 0x258fdbcacf8>],\n",
       " [Text(-1.08987,-0.148958,'1'),\n",
       "  Text(0.601137,-0.921214,'2'),\n",
       "  Text(0.919115,-0.604341,'3'),\n",
       "  Text(1.02449,-0.400516,'4'),\n",
       "  Text(1.08269,-0.194366,'5'),\n",
       "  Text(1.09583,0.0956594,'6'),\n",
       "  Text(1.05652,0.306228,'7'),\n",
       "  Text(1.04757,0.335543,'8'),\n",
       "  Text(1.02168,0.407643,'9'),\n",
       "  Text(0.773743,0.781871,'10'),\n",
       "  Text(0.432428,1.01144,'14'),\n",
       "  Text(0.368211,1.03654,'15'),\n",
       "  Text(0.167914,1.08711,'16')],\n",
       " [Text(-0.594473,-0.0812499,'54.3%'),\n",
       "  Text(0.327893,-0.50248,'9.8%'),\n",
       "  Text(0.501335,-0.329641,'3.3%'),\n",
       "  Text(0.558815,-0.218463,'3.3%'),\n",
       "  Text(0.590559,-0.106018,'2.9%'),\n",
       "  Text(0.597727,0.0521779,'5.5%'),\n",
       "  Text(0.576281,0.167033,'0.7%'),\n",
       "  Text(0.571404,0.183024,'0.2%'),\n",
       "  Text(0.557279,0.222351,'2.0%'),\n",
       "  Text(0.422042,0.426475,'11.1%'),\n",
       "  Text(0.23587,0.551693,'0.9%'),\n",
       "  Text(0.200842,0.565387,'1.1%'),\n",
       "  Text(0.0915895,0.592968,'4.9%')])"
      ]
     },
     "execution_count": 18,
     "metadata": {},
     "output_type": "execute_result"
    }
   ],
   "source": [
    "unique, counts = np.unique(y, return_counts=True) \n",
    "plt.pie(counts, labels = unique, autopct='%1.1f%%', shadow=True, startangle=90)"
   ]
  },
  {
   "cell_type": "code",
   "execution_count": 51,
   "metadata": {},
   "outputs": [
    {
     "name": "stdout",
     "output_type": "stream",
     "text": [
      "Original labels:\t 1     10\n",
      "2      1\n",
      "3      7\n",
      "4     14\n",
      "5      1\n",
      "6      1\n",
      "7      1\n",
      "8     10\n",
      "9      3\n",
      "10     1\n",
      "11    10\n",
      "12     6\n",
      "13     1\n",
      "14     1\n",
      "15    10\n",
      "16     1\n",
      "Name: 8, dtype: int64\n",
      "New binary labels:\t 1     0\n",
      "2     1\n",
      "3     0\n",
      "4     0\n",
      "5     1\n",
      "6     1\n",
      "7     1\n",
      "8     0\n",
      "9     0\n",
      "10    1\n",
      "11    0\n",
      "12    0\n",
      "13    1\n",
      "14    1\n",
      "15    0\n",
      "16    1\n",
      "Name: 8, dtype: int64\n"
     ]
    }
   ],
   "source": [
    "y_binary_imbalanced = y.copy()\n",
    "y_binary_imbalanced[y_binary_imbalanced != 1] = 0\n",
    "\n",
    "print('Original labels:\\t', y[1:17])\n",
    "print('New binary labels:\\t', y_binary_imbalanced[1:17])"
   ]
  },
  {
   "cell_type": "code",
   "execution_count": 52,
   "metadata": {},
   "outputs": [
    {
     "data": {
      "text/plain": [
       "array([206, 245], dtype=int64)"
      ]
     },
     "execution_count": 52,
     "metadata": {},
     "output_type": "execute_result"
    }
   ],
   "source": [
    "np.bincount(y_binary_imbalanced) # class 1 is the most frequent 245 observations where status is normal"
   ]
  },
  {
   "cell_type": "code",
   "execution_count": 53,
   "metadata": {},
   "outputs": [],
   "source": [
    "from sklearn.preprocessing import MinMaxScaler\n",
    "X_train, X_test, y_train, y_test = train_test_split(X,y_binary_imbalanced, random_state = 10)\n",
    "\n",
    "scaler = MinMaxScaler()\n",
    "X_train = scaler.fit_transform(X_train)\n",
    "X_test = scaler.transform(X_test)"
   ]
  },
  {
   "cell_type": "markdown",
   "metadata": {},
   "source": [
    "#### K-Nearest Neighbor`"
   ]
  },
  {
   "cell_type": "code",
   "execution_count": 54,
   "metadata": {},
   "outputs": [
    {
     "name": "stdout",
     "output_type": "stream",
     "text": [
      "confusion regression classifier \n",
      " [[15 32]\n",
      " [ 1 65]]\n",
      "             precision    recall  f1-score   support\n",
      "\n",
      "      not 1       0.94      0.32      0.48        47\n",
      "          1       0.67      0.98      0.80        66\n",
      "\n",
      "avg / total       0.78      0.71      0.66       113\n",
      "\n"
     ]
    }
   ],
   "source": [
    "knn_clf = KNeighborsClassifier(n_neighbors = 5).fit(X_train,y_train)\n",
    "y_predicted= knn_clf.predict(X_test)\n",
    "confusion = confusion_matrix(y_test, y_predicted)\n",
    "print('confusion regression classifier \\n', confusion)\n",
    "print(classification_report(y_test, y_predicted, target_names=['not 1', '1']))"
   ]
  },
  {
   "cell_type": "markdown",
   "metadata": {},
   "source": [
    "#### Logistic Regression"
   ]
  },
  {
   "cell_type": "code",
   "execution_count": 55,
   "metadata": {},
   "outputs": [
    {
     "name": "stdout",
     "output_type": "stream",
     "text": [
      "confusion regression classifier \n",
      " [[31 16]\n",
      " [ 7 59]]\n",
      "             precision    recall  f1-score   support\n",
      "\n",
      "      not 1       0.82      0.66      0.73        47\n",
      "          1       0.79      0.89      0.84        66\n",
      "\n",
      "avg / total       0.80      0.80      0.79       113\n",
      "\n"
     ]
    }
   ],
   "source": [
    "log_clf = LogisticRegression(penalty='l1',random_state=10).fit(X_train,y_train)\n",
    "y_predicted= log_clf.predict(X_test)\n",
    "confusion = confusion_matrix(y_test, y_predicted)\n",
    "print('confusion regression classifier \\n', confusion)\n",
    "print(classification_report(y_test, y_predicted, target_names=['not 1', '1']))"
   ]
  },
  {
   "cell_type": "markdown",
   "metadata": {},
   "source": [
    "#### Linear SVC"
   ]
  },
  {
   "cell_type": "code",
   "execution_count": 56,
   "metadata": {},
   "outputs": [
    {
     "name": "stdout",
     "output_type": "stream",
     "text": [
      "confusion regression classifier \n",
      " [[29 18]\n",
      " [ 7 59]]\n",
      "             precision    recall  f1-score   support\n",
      "\n",
      "      not 1       0.81      0.62      0.70        47\n",
      "          1       0.77      0.89      0.83        66\n",
      "\n",
      "avg / total       0.78      0.78      0.77       113\n",
      "\n"
     ]
    }
   ],
   "source": [
    "svm_clf = LinearSVC(C=0.1,random_state=10).fit(X_train,y_train)\n",
    "y_predicted= svm_clf.predict(X_test)\n",
    "confusion = confusion_matrix(y_test, y_predicted)\n",
    "print('confusion regression classifier \\n', confusion)\n",
    "print(classification_report(y_test, y_predicted, target_names=['not 1', '1']))"
   ]
  },
  {
   "cell_type": "markdown",
   "metadata": {},
   "source": [
    "#### Kernelized SVC"
   ]
  },
  {
   "cell_type": "code",
   "execution_count": 57,
   "metadata": {},
   "outputs": [
    {
     "name": "stdout",
     "output_type": "stream",
     "text": [
      "confusion regression classifier \n",
      " [[32 15]\n",
      " [ 8 58]]\n",
      "             precision    recall  f1-score   support\n",
      "\n",
      "      not 1       0.80      0.68      0.74        47\n",
      "          1       0.79      0.88      0.83        66\n",
      "\n",
      "avg / total       0.80      0.80      0.79       113\n",
      "\n"
     ]
    }
   ],
   "source": [
    "rbf_clf= SVC(kernel = 'rbf', C =100, gamma =0.01, random_state=10).fit(X_train,y_train)\n",
    "y_predicted= rbf_clf.predict(X_test)\n",
    "confusion = confusion_matrix(y_test, y_predicted)\n",
    "print('confusion regression classifier \\n', confusion)\n",
    "print(classification_report(y_test, y_predicted, target_names=['not 1', '1']))"
   ]
  },
  {
   "cell_type": "markdown",
   "metadata": {},
   "source": [
    "#### Decision Tree"
   ]
  },
  {
   "cell_type": "code",
   "execution_count": 58,
   "metadata": {},
   "outputs": [
    {
     "name": "stdout",
     "output_type": "stream",
     "text": [
      "confusion regression classifier \n",
      " [[33 14]\n",
      " [16 50]]\n",
      "             precision    recall  f1-score   support\n",
      "\n",
      "      not 1       0.67      0.70      0.69        47\n",
      "          1       0.78      0.76      0.77        66\n",
      "\n",
      "avg / total       0.74      0.73      0.74       113\n",
      "\n"
     ]
    }
   ],
   "source": [
    "dtc_clf= dtc(max_depth=8, random_state=10).fit(X_train,y_train)\n",
    "y_predicted= dtc_clf.predict(X_test)\n",
    "confusion = confusion_matrix(y_test, y_predicted)\n",
    "print('confusion regression classifier \\n', confusion)\n",
    "print(classification_report(y_test, y_predicted, target_names=['not 1', '1']))"
   ]
  },
  {
   "cell_type": "markdown",
   "metadata": {},
   "source": [
    "#### Random Forest"
   ]
  },
  {
   "cell_type": "code",
   "execution_count": 59,
   "metadata": {},
   "outputs": [
    {
     "name": "stdout",
     "output_type": "stream",
     "text": [
      "confusion regression classifier \n",
      " [[37 10]\n",
      " [ 4 62]]\n",
      "             precision    recall  f1-score   support\n",
      "\n",
      "      not 1       0.90      0.79      0.84        47\n",
      "          1       0.86      0.94      0.90        66\n",
      "\n",
      "avg / total       0.88      0.88      0.87       113\n",
      "\n"
     ]
    }
   ],
   "source": [
    "rfc_clf = rfc(max_features= 279, random_state=10).fit(X_train,y_train)\n",
    "y_predicted= rfc_clf.predict(X_test)\n",
    "confusion = confusion_matrix(y_test, y_predicted)\n",
    "print('confusion regression classifier \\n', confusion)\n",
    "print(classification_report(y_test, y_predicted, target_names=['not 1', '1']))"
   ]
  },
  {
   "cell_type": "markdown",
   "metadata": {},
   "source": [
    "#### Hard Voting Classifier"
   ]
  },
  {
   "cell_type": "code",
   "execution_count": 60,
   "metadata": {},
   "outputs": [
    {
     "name": "stdout",
     "output_type": "stream",
     "text": [
      "confusion regression classifier \n",
      " [[35 12]\n",
      " [ 6 60]]\n",
      "             precision    recall  f1-score   support\n",
      "\n",
      "      not 1       0.85      0.74      0.80        47\n",
      "          1       0.83      0.91      0.87        66\n",
      "\n",
      "avg / total       0.84      0.84      0.84       113\n",
      "\n"
     ]
    },
    {
     "name": "stderr",
     "output_type": "stream",
     "text": [
      "c:\\users\\lenovo e560\\appdata\\local\\programs\\python\\python36\\lib\\site-packages\\sklearn\\preprocessing\\label.py:151: DeprecationWarning: The truth value of an empty array is ambiguous. Returning False, but in future this will result in an error. Use `array.size > 0` to check that an array is not empty.\n",
      "  if diff:\n"
     ]
    }
   ],
   "source": [
    "knn_clf= KNeighborsClassifier(n_neighbors = 5)\n",
    "log_clf = LogisticRegression(penalty='l1',random_state=10)\n",
    "svm_clf = LinearSVC(C=0.1,random_state=10)\n",
    "rbf_clf= SVC(kernel = 'rbf', C =100, gamma =0.01, random_state=10)\n",
    "dtc_clf= dtc(max_depth=8, random_state=10)\n",
    "rfc_clf = rfc(max_features= 279, random_state=10)\n",
    "\n",
    "voting_clf = VotingClassifier(estimators=[('knn',knn_clf),('lr', log_clf), ('svc', svm_clf),\n",
    "                                          ('rbf',rbf_clf),('dtc',dtc_clf),('rfc', rfc_clf)], voting='hard')\n",
    "voting_clf.fit(X_train, y_train)\n",
    "y_predicted= voting_clf.predict(X_test)\n",
    "confusion = confusion_matrix(y_test, y_predicted)\n",
    "print('confusion regression classifier \\n', confusion)\n",
    "print(classification_report(y_test, y_predicted, target_names=['not 1', '1']))"
   ]
  },
  {
   "cell_type": "markdown",
   "metadata": {},
   "source": [
    "# Part IV: SUMMARY\n",
    "\n",
    " This summary is a brief guide to all justifications. Results in part III are based on test scores including out-of-bag outputs.\n",
    "\n",
    "## Overall Performance\n",
    "\n",
    "#### Best Performers\n",
    "\n",
    " Linear SVC is the best estimator among all algorithms in this project in term of Accuracy. However, in term of Recall, Random Forest has done the best job to recommend treatment to most people.\n",
    "\n",
    "- Linear SVC scores highest in Bagging Ensemble with out-of-bag accuracy of 96% and  has the lowest of 76% with advanced methods\n",
    "- Random Forest has the highest Recall of 88% among other estimators in pure method.\n",
    "\n",
    "#### Medium Performers \n",
    "By descending maximum test score:\n",
    "\n",
    "- Decision tree with Gradient Boosting( before PCA) scores the highest among the medium with 77%.\n",
    "\n",
    "- Kernelized SVC in PCA and Random Forest in pure method both score 76%.\n",
    "\n",
    "- Hard voting of pure estimators scores 75%.\n",
    "\n",
    "- Logistic Regressor scores 73% in pure method. \n",
    "\n",
    "- Random Forest has maximum score of 72% in pure method, and generally worsened with all new methods including PCA. \n",
    "\n",
    "#### Low Performers\n",
    "By descending maximum test score:\n",
    "\n",
    "- K-Nearest Neighbor Classifier has the lowest score of 65%( in PCA), and can not be supported by Bagging/Boosting.\n",
    "\n",
    "\n",
    "## Ensemble learning, Voting Classifier, and PCA\n",
    "- In short, both bagging and boosting see signfinicant changes for all estimators. The reason is some estimators have done its best in training and testing; however, bagging/boosting even overfits the data as a whole. In this scenario, bagging works the best for Linear SVC, and boosting tremendously support decision tree.\n",
    "\n",
    "- For PCA, results are almost equal on average compared to all estimators before data reduction. Bagging/boosting/voting with PCA do not optimize for the highest performance as existing in previous methods. In my opinion, the reason for no change is because PCA is not an appropriate method to capture the sigfificance of features for this dataset. Also, interdependency among variables is yet to be fully addressed in this project.\n",
    "\n",
    " #### Bagging:\n",
    "- Improve the most with Linear SVC with 96%, and worsen Kernelized SVC with 54%.\n",
    "#### Boosting:\n",
    "- Gradient Boosting is a huge advantage for Decision Tree with 77% , and AdaBoost is the worst for Random Forest with 64% after PCA.\n",
    "#### Hard Voting:\n",
    "- The maximum score is 75% in pure method. The minimum score is 66% in both Boosting and Bagging( before PCA)\n",
    "#### PCA:\n",
    "- The maximum score is 76% Linear SVC and 74% for Kernel SVC in pure method. The worst is Kernelized SVC and Random Forest in Bagging Ensemble 54%.\n",
    "\n",
    "## Evaluation Strategy \n",
    "\n",
    "- The accuracy is used in most methods of classfiers for simplicity of usage in comparing different method. Linear SVC seems to out perform other methods with 96 % out-of-bag score in Bagging ensemble.\n",
    "\n",
    "- However, when it comes to situation when we wants to look at a different classification metric like Recall, Random Forest has proved to be the optimal one. In this imbalanced data, Random forest has highest score in Recall of 88% by Micro-average method. \n",
    "\n",
    "- The reason why I do not apply Bagging/Boosting/PCA in term of Recall is, generally, these methods on average have worsened performances as being seen with Accuracy."
   ]
  }
 ],
 "metadata": {
  "kernelspec": {
   "display_name": "Python 3",
   "language": "python",
   "name": "python3"
  },
  "language_info": {
   "codemirror_mode": {
    "name": "ipython",
    "version": 3
   },
   "file_extension": ".py",
   "mimetype": "text/x-python",
   "name": "python",
   "nbconvert_exporter": "python",
   "pygments_lexer": "ipython3",
   "version": "3.6.4"
  }
 },
 "nbformat": 4,
 "nbformat_minor": 2
}
